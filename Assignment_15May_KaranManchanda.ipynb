{
 "cells": [
  {
   "cell_type": "code",
   "execution_count": 1,
   "id": "9b702c32",
   "metadata": {},
   "outputs": [],
   "source": [
    "s = \"this is My First Python programming class and i am learNING python string and its function\""
   ]
  },
  {
   "cell_type": "raw",
   "id": "bf73a932",
   "metadata": {},
   "source": [
    "1 . Try to extract data from index one to index 300 with a jump of 3 "
   ]
  },
  {
   "cell_type": "code",
   "execution_count": 2,
   "id": "0db3a4e1",
   "metadata": {},
   "outputs": [
    {
     "data": {
      "text/plain": [
       "'h   r tnrrmglsnimeNGyosi dtfco'"
      ]
     },
     "execution_count": 2,
     "metadata": {},
     "output_type": "execute_result"
    }
   ],
   "source": [
    "s[1:300:3]"
   ]
  },
  {
   "cell_type": "raw",
   "id": "91ead584",
   "metadata": {},
   "source": [
    "2. Try to reverse a string without using reverse function"
   ]
  },
  {
   "cell_type": "code",
   "execution_count": 3,
   "id": "a8274932",
   "metadata": {},
   "outputs": [
    {
     "data": {
      "text/plain": [
       "'noitcnuf sti dna gnirts nohtyp GNINrael ma i dna ssalc gnimmargorp nohtyP tsriF yM si siht'"
      ]
     },
     "execution_count": 3,
     "metadata": {},
     "output_type": "execute_result"
    }
   ],
   "source": [
    "s[::-1]"
   ]
  },
  {
   "cell_type": "raw",
   "id": "aa43eb11",
   "metadata": {},
   "source": [
    "3. Try to split a string after conversion of entire string in uppercase"
   ]
  },
  {
   "cell_type": "code",
   "execution_count": 9,
   "id": "db8875bc",
   "metadata": {},
   "outputs": [],
   "source": [
    "s1 = s.upper()"
   ]
  },
  {
   "cell_type": "code",
   "execution_count": 10,
   "id": "face8391",
   "metadata": {},
   "outputs": [
    {
     "data": {
      "text/plain": [
       "'THIS IS MY FIRST PYTHON PROGRAMMING CLASS AND I AM LEARNING PYTHON STRING AND ITS FUNCTION'"
      ]
     },
     "execution_count": 10,
     "metadata": {},
     "output_type": "execute_result"
    }
   ],
   "source": [
    "s1"
   ]
  },
  {
   "cell_type": "code",
   "execution_count": 12,
   "id": "32918e15",
   "metadata": {},
   "outputs": [
    {
     "data": {
      "text/plain": [
       "['THIS',\n",
       " 'IS',\n",
       " 'MY',\n",
       " 'FIRST',\n",
       " 'PYTHON',\n",
       " 'PROGRAMMING',\n",
       " 'CLASS',\n",
       " 'AND',\n",
       " 'I',\n",
       " 'AM',\n",
       " 'LEARNING',\n",
       " 'PYTHON',\n",
       " 'STRING',\n",
       " 'AND',\n",
       " 'ITS',\n",
       " 'FUNCTION']"
      ]
     },
     "execution_count": 12,
     "metadata": {},
     "output_type": "execute_result"
    }
   ],
   "source": [
    "s1.split(' ')"
   ]
  },
  {
   "cell_type": "markdown",
   "id": "867d37f1",
   "metadata": {},
   "source": [
    "Comment: Used another variable to perform split operation on string. Need to check if it could be directly operated on the In [9]. "
   ]
  },
  {
   "cell_type": "raw",
   "id": "9e2b5fdc",
   "metadata": {},
   "source": [
    "4. Try to convert the whole string into lower case"
   ]
  },
  {
   "cell_type": "code",
   "execution_count": 13,
   "id": "415aacf9",
   "metadata": {},
   "outputs": [
    {
     "data": {
      "text/plain": [
       "'this is my first python programming class and i am learning python string and its function'"
      ]
     },
     "execution_count": 13,
     "metadata": {},
     "output_type": "execute_result"
    }
   ],
   "source": [
    "s.lower()"
   ]
  },
  {
   "cell_type": "raw",
   "id": "3a066a38",
   "metadata": {},
   "source": [
    "5. Try to capitalize the whole string"
   ]
  },
  {
   "cell_type": "code",
   "execution_count": 14,
   "id": "a96f221d",
   "metadata": {},
   "outputs": [
    {
     "data": {
      "text/plain": [
       "'This is my first python programming class and i am learning python string and its function'"
      ]
     },
     "execution_count": 14,
     "metadata": {},
     "output_type": "execute_result"
    }
   ],
   "source": [
    "s.capitalize()"
   ]
  },
  {
   "cell_type": "raw",
   "id": "5d717431",
   "metadata": {},
   "source": [
    "6 . Write a diference between isalnum() and isalpha()"
   ]
  },
  {
   "cell_type": "raw",
   "id": "eb16f704",
   "metadata": {},
   "source": [
    "isalnum(): This operation checks whether the string is either alphabetic or numeric.\n",
    "isalpha(): This operation checks whether the string is alphabetic."
   ]
  },
  {
   "cell_type": "raw",
   "id": "bc905cb0",
   "metadata": {},
   "source": [
    "7. Try to give an example of expand tab"
   ]
  },
  {
   "cell_type": "code",
   "execution_count": 19,
   "id": "714fc010",
   "metadata": {},
   "outputs": [],
   "source": [
    "s1 = 'I\\tsubmitted\\tmy\\tassignment\\tat\\tthe\\tlast\\tmoment.'"
   ]
  },
  {
   "cell_type": "code",
   "execution_count": 20,
   "id": "9817b954",
   "metadata": {},
   "outputs": [
    {
     "data": {
      "text/plain": [
       "'I       submitted       my      assignment      at      the     last    moment.'"
      ]
     },
     "execution_count": 20,
     "metadata": {},
     "output_type": "execute_result"
    }
   ],
   "source": [
    "s1.expandtabs()"
   ]
  },
  {
   "cell_type": "raw",
   "id": "ef1b1344",
   "metadata": {},
   "source": [
    "8 . Give an example of strip , lstrip and rstrip"
   ]
  },
  {
   "cell_type": "code",
   "execution_count": 22,
   "id": "8b094907",
   "metadata": {},
   "outputs": [],
   "source": [
    "s2 = \"     Who   learns   Python   ?   \""
   ]
  },
  {
   "cell_type": "code",
   "execution_count": 23,
   "id": "f384dfc6",
   "metadata": {},
   "outputs": [
    {
     "data": {
      "text/plain": [
       "['Who', 'learns', 'Python', '?']"
      ]
     },
     "execution_count": 23,
     "metadata": {},
     "output_type": "execute_result"
    }
   ],
   "source": [
    "s2.split()"
   ]
  },
  {
   "cell_type": "code",
   "execution_count": 24,
   "id": "f0193092",
   "metadata": {},
   "outputs": [
    {
     "data": {
      "text/plain": [
       "'Who   learns   Python   ?   '"
      ]
     },
     "execution_count": 24,
     "metadata": {},
     "output_type": "execute_result"
    }
   ],
   "source": [
    "s2.lstrip()"
   ]
  },
  {
   "cell_type": "code",
   "execution_count": 25,
   "id": "d57578c3",
   "metadata": {},
   "outputs": [
    {
     "data": {
      "text/plain": [
       "'     Who   learns   Python   ?'"
      ]
     },
     "execution_count": 25,
     "metadata": {},
     "output_type": "execute_result"
    }
   ],
   "source": [
    "s2.rstrip()"
   ]
  },
  {
   "cell_type": "raw",
   "id": "396106ee",
   "metadata": {},
   "source": [
    "9.  Replace a string character by another charector by taking your own example"
   ]
  },
  {
   "cell_type": "code",
   "execution_count": 26,
   "id": "d670ebe2",
   "metadata": {},
   "outputs": [],
   "source": [
    "s3 = \"This is an example variable to replace string character\""
   ]
  },
  {
   "cell_type": "code",
   "execution_count": 27,
   "id": "0f76e53e",
   "metadata": {},
   "outputs": [
    {
     "data": {
      "text/plain": [
       "'This is #n ex#mple v#ri#ble to repl#ce string ch#r#cter'"
      ]
     },
     "execution_count": 27,
     "metadata": {},
     "output_type": "execute_result"
    }
   ],
   "source": [
    "s3.replace('a','#',-1)"
   ]
  },
  {
   "cell_type": "raw",
   "id": "b4072961",
   "metadata": {},
   "source": [
    "10 . Try  to give a definition of string center function with and example"
   ]
  },
  {
   "cell_type": "code",
   "execution_count": 28,
   "id": "de2d3b11",
   "metadata": {},
   "outputs": [],
   "source": [
    "s4 = \"Bazinga\""
   ]
  },
  {
   "cell_type": "code",
   "execution_count": 29,
   "id": "6adf6b3b",
   "metadata": {},
   "outputs": [
    {
     "data": {
      "text/plain": [
       "'@@@@@@@@@@@@@@@@Bazinga@@@@@@@@@@@@@@@@@'"
      ]
     },
     "execution_count": 29,
     "metadata": {},
     "output_type": "execute_result"
    }
   ],
   "source": [
    "s4.center(40,\"@\")"
   ]
  },
  {
   "cell_type": "raw",
   "id": "3b352ba0",
   "metadata": {},
   "source": [
    "This operation reserves the revised string length as per the defined width. It then keeps the actual string in the center (\"Bazinga\") and fills the remaining space (both left and right) with the mentioned character (\"@\") to make the revised string."
   ]
  },
  {
   "cell_type": "raw",
   "id": "b347e148",
   "metadata": {},
   "source": [
    "11 . Write your definition of Compiler and Interpretor without doing any copy/paste form the Internet in your own language"
   ]
  },
  {
   "cell_type": "raw",
   "id": "6862ef8e",
   "metadata": {},
   "source": [
    "Compiler: This application helps to compile the code in a language which is easily understandable by the computer.\n",
    "Interpretor: Don't know."
   ]
  },
  {
   "cell_type": "raw",
   "id": "4f7f8068",
   "metadata": {},
   "source": [
    "12 . Python is an interpreted of compiled language give a clear answer with your understanding "
   ]
  },
  {
   "cell_type": "raw",
   "id": "bafb0140",
   "metadata": {},
   "source": [
    "Don't know the answer as I am unaware of the Interpretor's functions. "
   ]
  },
  {
   "cell_type": "raw",
   "id": "ec88197f",
   "metadata": {},
   "source": [
    "13 . Try to write a usecase of Python with your understanding"
   ]
  },
  {
   "cell_type": "raw",
   "id": "fed950e5",
   "metadata": {},
   "source": [
    "Python is being used in Data Science as the primary language."
   ]
  },
  {
   "cell_type": "code",
   "execution_count": null,
   "id": "bf5ddec9",
   "metadata": {},
   "outputs": [],
   "source": []
  }
 ],
 "metadata": {
  "kernelspec": {
   "display_name": "Python 3 (ipykernel)",
   "language": "python",
   "name": "python3"
  },
  "language_info": {
   "codemirror_mode": {
    "name": "ipython",
    "version": 3
   },
   "file_extension": ".py",
   "mimetype": "text/x-python",
   "name": "python",
   "nbconvert_exporter": "python",
   "pygments_lexer": "ipython3",
   "version": "3.9.7"
  }
 },
 "nbformat": 4,
 "nbformat_minor": 5
}
