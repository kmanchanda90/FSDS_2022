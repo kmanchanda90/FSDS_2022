{
 "cells": [
  {
   "cell_type": "code",
   "execution_count": 1,
   "id": "9a7f5765",
   "metadata": {},
   "outputs": [],
   "source": [
    "l = [1,2,3,4,\"karan\",\"manchanda\",56.28]"
   ]
  },
  {
   "cell_type": "code",
   "execution_count": 7,
   "id": "0577fb44",
   "metadata": {},
   "outputs": [
    {
     "name": "stdout",
     "output_type": "stream",
     "text": [
      "1\n",
      "2\n",
      "3\n",
      "4\n",
      "karan\n",
      "manchanda\n",
      "56.28\n"
     ]
    }
   ],
   "source": [
    "for i in l :   #i is a local variable here\n",
    "    print(i)"
   ]
  },
  {
   "cell_type": "code",
   "execution_count": 8,
   "id": "11c47250",
   "metadata": {},
   "outputs": [],
   "source": [
    "for i in l:   #Indentation is very important\n",
    "    pass"
   ]
  },
  {
   "cell_type": "code",
   "execution_count": 11,
   "id": "7e3f3247",
   "metadata": {},
   "outputs": [
    {
     "name": "stdout",
     "output_type": "stream",
     "text": [
      "k\n",
      "a\n",
      "r\n",
      "a\n",
      "n\n"
     ]
    }
   ],
   "source": [
    "s = \"karan\"\n",
    "for i in s:\n",
    "    print(i)"
   ]
  },
  {
   "cell_type": "code",
   "execution_count": 12,
   "id": "adeefe9c",
   "metadata": {},
   "outputs": [],
   "source": [
    "t = tuple(l)"
   ]
  },
  {
   "cell_type": "code",
   "execution_count": 13,
   "id": "b2cc3ab5",
   "metadata": {},
   "outputs": [
    {
     "data": {
      "text/plain": [
       "(1, 2, 3, 4, 'karan', 'manchanda', 56.28)"
      ]
     },
     "execution_count": 13,
     "metadata": {},
     "output_type": "execute_result"
    }
   ],
   "source": [
    "t"
   ]
  },
  {
   "cell_type": "code",
   "execution_count": 14,
   "id": "9f12d21c",
   "metadata": {},
   "outputs": [
    {
     "name": "stdout",
     "output_type": "stream",
     "text": [
      "1\n",
      "2\n",
      "3\n",
      "4\n",
      "karan\n",
      "manchanda\n",
      "56.28\n"
     ]
    }
   ],
   "source": [
    "for i in t:\n",
    "    print(i)"
   ]
  },
  {
   "cell_type": "code",
   "execution_count": 17,
   "id": "a28633d1",
   "metadata": {},
   "outputs": [
    {
     "name": "stdout",
     "output_type": "stream",
     "text": [
      "1\n",
      "2\n",
      "3\n",
      "4\n",
      "karan\n",
      "manchanda\n",
      "56.28\n",
      "if for loop is going to complete itself then only it will execute the else loop\n"
     ]
    }
   ],
   "source": [
    "#for-else loop   #Important Concept\n",
    "for i in l:\n",
    "    print(i)\n",
    "else :\n",
    "    print(\"if for loop is going to complete itself then only it will execute the else loop\")\n",
    "    "
   ]
  },
  {
   "cell_type": "code",
   "execution_count": 18,
   "id": "b009b06d",
   "metadata": {},
   "outputs": [
    {
     "name": "stdout",
     "output_type": "stream",
     "text": [
      "1\n",
      "2\n",
      "3\n"
     ]
    }
   ],
   "source": [
    "for i in l:\n",
    "    if i == 4:\n",
    "        break   #reserved keyword in Python. It is going to break the entire loop and gets you out of the entire loop. It will not come inside the else block\n",
    "    print(i)\n",
    "else:\n",
    "    print(\"this will execute only if the for loop will get executed completely\")"
   ]
  },
  {
   "cell_type": "code",
   "execution_count": 26,
   "id": "f0ae37d1",
   "metadata": {},
   "outputs": [
    {
     "name": "stdout",
     "output_type": "stream",
     "text": [
      "s\n",
      "u\n",
      "d\n",
      "h\n",
      "a\n",
      "n\n",
      "s\n",
      "h\n",
      "u\n",
      "print the entire string which is: sudhanshu\n"
     ]
    }
   ],
   "source": [
    "s = \"sudhanshu\"\n",
    "for i in s:\n",
    "    if i == 'z':\n",
    "        break\n",
    "    print(i)\n",
    "else:\n",
    "    print(\"print the entire string which is:\",s)"
   ]
  },
  {
   "cell_type": "code",
   "execution_count": 28,
   "id": "4e4e023d",
   "metadata": {},
   "outputs": [
    {
     "name": "stdout",
     "output_type": "stream",
     "text": [
      "1\n",
      "2\n",
      "3\n",
      "4\n",
      "karan\n",
      "manchanda\n",
      "56.28\n"
     ]
    }
   ],
   "source": [
    "for i in t:\n",
    "    print(i)"
   ]
  },
  {
   "cell_type": "code",
   "execution_count": 34,
   "id": "aec2050c",
   "metadata": {},
   "outputs": [],
   "source": [
    "s8 = {3,232,32,23,23,23,2,2,2,2,2,2,2,3,3,3,4,4,2,2,\"karan\"}"
   ]
  },
  {
   "cell_type": "code",
   "execution_count": 35,
   "id": "8180f897",
   "metadata": {},
   "outputs": [
    {
     "name": "stdout",
     "output_type": "stream",
     "text": [
      "32\n",
      "2\n",
      "3\n",
      "4\n",
      "karan\n",
      "23\n",
      "232\n"
     ]
    }
   ],
   "source": [
    "for i in s8:\n",
    "    print(i)"
   ]
  },
  {
   "cell_type": "code",
   "execution_count": 73,
   "id": "988d441c",
   "metadata": {},
   "outputs": [],
   "source": [
    "d = {'k1':'v1','k2':'v2','k3':'v3','k4':[1,23,23,22]}"
   ]
  },
  {
   "cell_type": "code",
   "execution_count": 41,
   "id": "ddd42723",
   "metadata": {},
   "outputs": [
    {
     "name": "stdout",
     "output_type": "stream",
     "text": [
      "k1\n"
     ]
    }
   ],
   "source": [
    "for i in d:\n",
    "    if i == 'k1':\n",
    "        print(i)"
   ]
  },
  {
   "cell_type": "code",
   "execution_count": 44,
   "id": "508dffab",
   "metadata": {},
   "outputs": [
    {
     "name": "stdout",
     "output_type": "stream",
     "text": [
      "k1 : v1\n",
      "k2 : v2\n",
      "k3 : v3\n",
      "k4 : [1, 23, 23, 22]\n"
     ]
    }
   ],
   "source": [
    "for i in d:\n",
    "    print(i,\":\", d[i])"
   ]
  },
  {
   "cell_type": "raw",
   "id": "bff86430",
   "metadata": {},
   "source": [
    "karan\n",
    "karan   karan\n",
    "karan   karan   karan\n",
    "karan   karan   karan   karan"
   ]
  },
  {
   "cell_type": "code",
   "execution_count": 50,
   "id": "b1ca4e16",
   "metadata": {},
   "outputs": [],
   "source": [
    "#Range function"
   ]
  },
  {
   "cell_type": "code",
   "execution_count": 52,
   "id": "b469ad40",
   "metadata": {},
   "outputs": [
    {
     "data": {
      "text/plain": [
       "range(0, 9)"
      ]
     },
     "execution_count": 52,
     "metadata": {},
     "output_type": "execute_result"
    }
   ],
   "source": [
    "range(9)   #Generator #Just printed an object"
   ]
  },
  {
   "cell_type": "code",
   "execution_count": 53,
   "id": "9c9d41fb",
   "metadata": {},
   "outputs": [
    {
     "name": "stdout",
     "output_type": "stream",
     "text": [
      "0\n",
      "1\n",
      "2\n",
      "3\n",
      "4\n",
      "5\n",
      "6\n",
      "7\n",
      "8\n"
     ]
    }
   ],
   "source": [
    "for i in range(9):\n",
    "    print(i)"
   ]
  },
  {
   "cell_type": "code",
   "execution_count": 60,
   "id": "2e36a584",
   "metadata": {},
   "outputs": [
    {
     "data": {
      "text/plain": [
       "[0, 1, 2, 3, 4, 5, 6, 7, 8]"
      ]
     },
     "execution_count": 60,
     "metadata": {},
     "output_type": "execute_result"
    }
   ],
   "source": [
    "list(range(9))   #producing the dataset using a list"
   ]
  },
  {
   "cell_type": "code",
   "execution_count": 56,
   "id": "6c475ccd",
   "metadata": {},
   "outputs": [
    {
     "data": {
      "text/plain": [
       "range(0, 9)"
      ]
     },
     "execution_count": 56,
     "metadata": {},
     "output_type": "execute_result"
    }
   ],
   "source": [
    "range(0,9)"
   ]
  },
  {
   "cell_type": "code",
   "execution_count": 57,
   "id": "9ea8dc58",
   "metadata": {},
   "outputs": [
    {
     "data": {
      "text/plain": [
       "[0, 1, 2, 3, 4, 5, 6, 7, 8]"
      ]
     },
     "execution_count": 57,
     "metadata": {},
     "output_type": "execute_result"
    }
   ],
   "source": [
    "list(range(0,9))"
   ]
  },
  {
   "cell_type": "code",
   "execution_count": 59,
   "id": "936a5b4b",
   "metadata": {},
   "outputs": [
    {
     "data": {
      "text/plain": [
       "[0, 2, 4, 6, 8]"
      ]
     },
     "execution_count": 59,
     "metadata": {},
     "output_type": "execute_result"
    }
   ],
   "source": [
    "list(range(0,9,2))"
   ]
  },
  {
   "cell_type": "code",
   "execution_count": 61,
   "id": "02607256",
   "metadata": {},
   "outputs": [
    {
     "data": {
      "text/plain": [
       "[]"
      ]
     },
     "execution_count": 61,
     "metadata": {},
     "output_type": "execute_result"
    }
   ],
   "source": [
    "list(range(0,9,-1))"
   ]
  },
  {
   "cell_type": "code",
   "execution_count": 2,
   "id": "1c3a0647",
   "metadata": {},
   "outputs": [
    {
     "name": "stdout",
     "output_type": "stream",
     "text": [
      "karan \n",
      "karan karan \n",
      "karan karan karan \n",
      "karan karan karan karan \n"
     ]
    }
   ],
   "source": [
    "n = 4\n",
    "for rows in range(n):\n",
    "    for columns in range(rows+1):\n",
    "        print(\"karan\",end=\" \")\n",
    "    print()"
   ]
  },
  {
   "cell_type": "raw",
   "id": "ef0637d4",
   "metadata": {},
   "source": [
    "        sudh\n",
    "    sudh    sudh\n",
    "sudh    sudh    sudh"
   ]
  },
  {
   "cell_type": "code",
   "execution_count": 142,
   "id": "af74717c",
   "metadata": {},
   "outputs": [
    {
     "name": "stdout",
     "output_type": "stream",
     "text": [
      "karan karan karan karan \n",
      "karan karan karan \n",
      "karan karan \n",
      "karan \n"
     ]
    }
   ],
   "source": [
    "n = 4\n",
    "for rows in range(n):\n",
    "    for columns in range(4-rows):\n",
    "        print(\"karan\",end=\" \")\n",
    "    print()"
   ]
  },
  {
   "cell_type": "code",
   "execution_count": 143,
   "id": "7f791fdc",
   "metadata": {},
   "outputs": [
    {
     "name": "stdout",
     "output_type": "stream",
     "text": [
      "0\n",
      "1\n",
      "2\n",
      "3\n"
     ]
    }
   ],
   "source": [
    "n = 4\n",
    "for rows in range(n):\n",
    "    print(rows)"
   ]
  },
  {
   "cell_type": "code",
   "execution_count": 172,
   "id": "442739f7",
   "metadata": {},
   "outputs": [
    {
     "name": "stdout",
     "output_type": "stream",
     "text": [
      "Enter the maximum no. of stars needed in a row:6\n",
      "* \n",
      "* * \n",
      "* * * \n",
      "* * * * \n",
      "* * * * * \n",
      "* * * * * * \n",
      "* * * * * \n",
      "* * * * \n",
      "* * * \n",
      "* * \n",
      "* \n"
     ]
    }
   ],
   "source": [
    "n = int(input(\"Enter the maximum no. of stars needed in a row:\"))\n",
    "for rows in range(2*n-1):\n",
    "    if rows < n:\n",
    "        for columns in range(rows+1):\n",
    "            print(\"*\",end=\" \")\n",
    "    else:\n",
    "        for columns in range(2*n-1-rows):\n",
    "            print(\"*\",end=\" \")\n",
    "    print()"
   ]
  },
  {
   "cell_type": "code",
   "execution_count": 237,
   "id": "1ea7d169",
   "metadata": {},
   "outputs": [
    {
     "name": "stdout",
     "output_type": "stream",
     "text": [
      "\t\thimmi\t\t\n",
      "\thimmi\t\thimmi\t\t\n",
      "himmi\t\thimmi\t\thimmi\t\t\n"
     ]
    }
   ],
   "source": [
    "n = 3\n",
    "for rows in range(n):\n",
    "    for spaces in range(2-rows):\n",
    "        print(\"\\t\",end=\"\")\n",
    "    for columns in range(rows+1):\n",
    "        print(\"himmi\\t\",end=\"\\t\")\n",
    "    print()"
   ]
  },
  {
   "cell_type": "code",
   "execution_count": 19,
   "id": "dc69d27e",
   "metadata": {},
   "outputs": [
    {
     "name": "stdout",
     "output_type": "stream",
     "text": [
      "            karan       \n",
      "      karan       karan       \n",
      "karan       karan       karan       \n"
     ]
    }
   ],
   "source": [
    "#Good logic to print spaces\n",
    "n = 3\n",
    "for rows in range(n):\n",
    "    for spaces in range(2-rows):\n",
    "        print(\" \"*len(\"karan\"),end=\" \")\n",
    "    for columns in range(rows+1):\n",
    "        print(\"karan\",\" \"*len(\"karan\"),end=\" \")\n",
    "    print()"
   ]
  },
  {
   "cell_type": "code",
   "execution_count": 31,
   "id": "abb0a08f",
   "metadata": {},
   "outputs": [
    {
     "name": "stdout",
     "output_type": "stream",
     "text": [
      "karan#     #karan x\n"
     ]
    }
   ],
   "source": [
    "#Understanding print function in detail (also includes an application of len function in a creative way)\n",
    "print(\"karan\",\" \"*len(\"karan\"),\"karan\",end=\" \",sep=\"#\")\n",
    "print(\"x\")"
   ]
  },
  {
   "cell_type": "code",
   "execution_count": 33,
   "id": "ae4fb825",
   "metadata": {},
   "outputs": [],
   "source": [
    "t = (3,23,45,67,2,4,5,6)"
   ]
  },
  {
   "cell_type": "code",
   "execution_count": 34,
   "id": "91024d02",
   "metadata": {},
   "outputs": [
    {
     "name": "stdout",
     "output_type": "stream",
     "text": [
      "3\n",
      "23\n",
      "45\n",
      "67\n",
      "2\n",
      "4\n",
      "5\n",
      "6\n"
     ]
    }
   ],
   "source": [
    "for i in t:\n",
    "    print(i)"
   ]
  },
  {
   "cell_type": "code",
   "execution_count": 35,
   "id": "d5647672",
   "metadata": {},
   "outputs": [
    {
     "data": {
      "text/plain": [
       "8"
      ]
     },
     "execution_count": 35,
     "metadata": {},
     "output_type": "execute_result"
    }
   ],
   "source": [
    "len(t)"
   ]
  },
  {
   "cell_type": "code",
   "execution_count": 40,
   "id": "873baf7b",
   "metadata": {},
   "outputs": [
    {
     "data": {
      "text/plain": [
       "(3, 23, 45, 67, 2, 4, 5, 6)"
      ]
     },
     "execution_count": 40,
     "metadata": {},
     "output_type": "execute_result"
    }
   ],
   "source": [
    "t"
   ]
  },
  {
   "cell_type": "code",
   "execution_count": 93,
   "id": "235c7bb3",
   "metadata": {},
   "outputs": [
    {
     "name": "stdout",
     "output_type": "stream",
     "text": [
      "at index [ 0 ] value is: 3\n",
      "at index [ 1 ] value is: 23\n",
      "at index [ 2 ] value is: 45\n",
      "at index [ 3 ] value is: 67\n",
      "at index [ 4 ] value is: 2\n",
      "at index [ 5 ] value is: 4\n",
      "at index [ 6 ] value is: 5\n",
      "at index [ 7 ] value is: 6\n"
     ]
    }
   ],
   "source": [
    "#Good learning example\n",
    "for i in range(len(t)):\n",
    "    print(\"at index [\",i,\"] value is:\",t[i])"
   ]
  },
  {
   "cell_type": "code",
   "execution_count": 50,
   "id": "6e61f3bc",
   "metadata": {},
   "outputs": [
    {
     "name": "stdout",
     "output_type": "stream",
     "text": [
      "at index [ 0 ] value is: i\n",
      "at index [ 1 ] value is: n\n",
      "at index [ 2 ] value is: e\n",
      "at index [ 3 ] value is: u\n",
      "at index [ 4 ] value is: r\n",
      "at index [ 5 ] value is: o\n",
      "at index [ 6 ] value is: n\n"
     ]
    }
   ],
   "source": [
    "s = \"ineuron\"\n",
    "for i in range(len(s)):\n",
    "    print(\"at index [\",i,\"] value is:\",s[i])"
   ]
  },
  {
   "cell_type": "code",
   "execution_count": 51,
   "id": "6ea5cf3e",
   "metadata": {},
   "outputs": [
    {
     "data": {
      "text/plain": [
       "'n'"
      ]
     },
     "execution_count": 51,
     "metadata": {},
     "output_type": "execute_result"
    }
   ],
   "source": [
    "s[6]"
   ]
  },
  {
   "cell_type": "code",
   "execution_count": 52,
   "id": "554b01f9",
   "metadata": {},
   "outputs": [
    {
     "data": {
      "text/plain": [
       "'o'"
      ]
     },
     "execution_count": 52,
     "metadata": {},
     "output_type": "execute_result"
    }
   ],
   "source": [
    "s[5]"
   ]
  },
  {
   "cell_type": "code",
   "execution_count": 54,
   "id": "a6963456",
   "metadata": {},
   "outputs": [],
   "source": [
    "k = range(9,0,-1)"
   ]
  },
  {
   "cell_type": "code",
   "execution_count": 68,
   "id": "123b09a5",
   "metadata": {},
   "outputs": [
    {
     "data": {
      "text/plain": [
       "[9, 8, 7, 6, 5, 4, 3, 2, 1]"
      ]
     },
     "execution_count": 68,
     "metadata": {},
     "output_type": "execute_result"
    }
   ],
   "source": [
    "list(k)"
   ]
  },
  {
   "cell_type": "code",
   "execution_count": 57,
   "id": "93ccd1dd",
   "metadata": {},
   "outputs": [
    {
     "name": "stdout",
     "output_type": "stream",
     "text": [
      "9\n",
      "8\n",
      "7\n",
      "6\n",
      "5\n",
      "4\n",
      "3\n",
      "2\n",
      "1\n"
     ]
    }
   ],
   "source": [
    "for i in k:\n",
    "    print(i)"
   ]
  },
  {
   "cell_type": "code",
   "execution_count": 92,
   "id": "6fdc3caa",
   "metadata": {},
   "outputs": [
    {
     "name": "stdout",
     "output_type": "stream",
     "text": [
      "at index [ 6 ] value is: n\n",
      "at index [ 5 ] value is: o\n",
      "at index [ 4 ] value is: r\n",
      "at index [ 3 ] value is: u\n",
      "at index [ 2 ] value is: e\n",
      "at index [ 1 ] value is: n\n",
      "at index [ 0 ] value is: i\n"
     ]
    }
   ],
   "source": [
    "#Good learning example\n",
    "for i in range(len(s)-1,-1,-1):\n",
    "    print(\"at index [\",i,\"] value is:\",s[i])\n",
    "    "
   ]
  },
  {
   "cell_type": "code",
   "execution_count": 67,
   "id": "3f72a015",
   "metadata": {},
   "outputs": [
    {
     "data": {
      "text/plain": [
       "[9, 8, 7, 6, 5, 4, 3, 2, 1, 0]"
      ]
     },
     "execution_count": 67,
     "metadata": {},
     "output_type": "execute_result"
    }
   ],
   "source": [
    "list(range(9,-1,-1))"
   ]
  },
  {
   "cell_type": "code",
   "execution_count": 74,
   "id": "ab38b6d9",
   "metadata": {},
   "outputs": [
    {
     "data": {
      "text/plain": [
       "{'k1': 'v1', 'k2': 'v2', 'k3': 'v3', 'k4': [1, 23, 23, 22]}"
      ]
     },
     "execution_count": 74,
     "metadata": {},
     "output_type": "execute_result"
    }
   ],
   "source": [
    "d"
   ]
  },
  {
   "cell_type": "code",
   "execution_count": 79,
   "id": "48487f85",
   "metadata": {},
   "outputs": [
    {
     "name": "stdout",
     "output_type": "stream",
     "text": [
      "('k1', 'v1') <class 'tuple'> <class 'str'>\n",
      "('k2', 'v2') <class 'tuple'> <class 'str'>\n",
      "('k3', 'v3') <class 'tuple'> <class 'str'>\n",
      "('k4', [1, 23, 23, 22]) <class 'tuple'> <class 'list'>\n"
     ]
    }
   ],
   "source": [
    "#Good learning example\n",
    "for i in d.items():\n",
    "    print(i,type(i),type(i[1]))"
   ]
  },
  {
   "cell_type": "code",
   "execution_count": 83,
   "id": "de6b2b1d",
   "metadata": {},
   "outputs": [],
   "source": [
    "l = [\"karan\",\"manchanda\",232242222,\"karanmanchanda90@gmail.com\",2346,291292]"
   ]
  },
  {
   "cell_type": "code",
   "execution_count": 85,
   "id": "7ddbba8b",
   "metadata": {},
   "outputs": [
    {
     "name": "stdout",
     "output_type": "stream",
     "text": [
      "[232242222, 2346, 291292]\n"
     ]
    }
   ],
   "source": [
    "li = []\n",
    "for i in l:\n",
    "    if type(i) == int:\n",
    "        li.append(i)\n",
    "print(li)"
   ]
  },
  {
   "cell_type": "code",
   "execution_count": 87,
   "id": "0af8532d",
   "metadata": {},
   "outputs": [],
   "source": [
    "d = {1:33527272,\"name\":\"karan\",\"email_id\":\"karanmanchanda90@gmail.com\",172732:\"dsdjsjd\",\"22\":\"dsdsd\",172732:\"3454\"}"
   ]
  },
  {
   "cell_type": "code",
   "execution_count": 88,
   "id": "d386ad78",
   "metadata": {},
   "outputs": [
    {
     "data": {
      "text/plain": [
       "{1: 33527272,\n",
       " 'name': 'karan',\n",
       " 'email_id': 'karanmanchanda90@gmail.com',\n",
       " 172732: '3454',\n",
       " '22': 'dsdsd'}"
      ]
     },
     "execution_count": 88,
     "metadata": {},
     "output_type": "execute_result"
    }
   ],
   "source": [
    "d"
   ]
  },
  {
   "cell_type": "code",
   "execution_count": 91,
   "id": "883dd10c",
   "metadata": {},
   "outputs": [
    {
     "name": "stdout",
     "output_type": "stream",
     "text": [
      "1 : 33527272\n",
      "172732 : 3454\n"
     ]
    }
   ],
   "source": [
    "for i in d:\n",
    "    if type(i)==int:\n",
    "        print(i,\":\",d[i])"
   ]
  },
  {
   "cell_type": "code",
   "execution_count": 97,
   "id": "10bb9ad1",
   "metadata": {},
   "outputs": [
    {
     "data": {
      "text/plain": [
       "1"
      ]
     },
     "execution_count": 97,
     "metadata": {},
     "output_type": "execute_result"
    }
   ],
   "source": [
    "s0 = \"aaaabbccd\"\n",
    "s0.count('d')"
   ]
  },
  {
   "cell_type": "code",
   "execution_count": 119,
   "id": "af74c5fc",
   "metadata": {},
   "outputs": [
    {
     "name": "stdout",
     "output_type": "stream",
     "text": [
      "count of a: 4\n",
      "count of b: 2\n",
      "count of c: 2\n",
      "count of d: 1\n"
     ]
    }
   ],
   "source": [
    "count_a = 0\n",
    "count_b = 0\n",
    "count_c = 0\n",
    "count_d = 0\n",
    "for i in s0:\n",
    "    if i == \"a\":\n",
    "        count_a = count_a+1\n",
    "    elif i == \"b\":\n",
    "        count_b = count_b+1\n",
    "    elif i == \"c\":\n",
    "        count_c = count_c+1\n",
    "    else :\n",
    "        count_d = count_d+1\n",
    "print(\"count of a: \",count_a,\"\\n\",\"count of b: \",count_b,\"\\n\",\"count of c: \",count_c,\"\\n\",\"count of d: \",count_d,sep=\"\")"
   ]
  },
  {
   "cell_type": "code",
   "execution_count": 117,
   "id": "b19c88de",
   "metadata": {},
   "outputs": [],
   "source": [
    "s8 = set(s0)"
   ]
  },
  {
   "cell_type": "code",
   "execution_count": 118,
   "id": "9c6ece35",
   "metadata": {},
   "outputs": [
    {
     "data": {
      "text/plain": [
       "{'a', 'b', 'c', 'd'}"
      ]
     },
     "execution_count": 118,
     "metadata": {},
     "output_type": "execute_result"
    }
   ],
   "source": [
    "s8"
   ]
  },
  {
   "cell_type": "code",
   "execution_count": 120,
   "id": "b2097e87",
   "metadata": {},
   "outputs": [
    {
     "data": {
      "text/plain": [
       "'aaaabbccd'"
      ]
     },
     "execution_count": 120,
     "metadata": {},
     "output_type": "execute_result"
    }
   ],
   "source": [
    "s0"
   ]
  },
  {
   "cell_type": "code",
   "execution_count": 134,
   "id": "9e2abe56",
   "metadata": {},
   "outputs": [
    {
     "name": "stdout",
     "output_type": "stream",
     "text": [
      "a : 4\n",
      "c : 2\n",
      "b : 2\n",
      "d : 1\n"
     ]
    }
   ],
   "source": [
    "#Good learning example #Alternate to the above program\n",
    "for i in set(s0):\n",
    "    print(i,\":\",s0.count(i))"
   ]
  },
  {
   "cell_type": "code",
   "execution_count": 125,
   "id": "226e95ad",
   "metadata": {},
   "outputs": [],
   "source": [
    "i = 34534654646435"
   ]
  },
  {
   "cell_type": "code",
   "execution_count": 133,
   "id": "7db31821",
   "metadata": {},
   "outputs": [
    {
     "name": "stdout",
     "output_type": "stream",
     "text": [
      "3 <class 'int'>\n",
      "4 <class 'int'>\n",
      "5 <class 'int'>\n",
      "3 <class 'int'>\n",
      "4 <class 'int'>\n",
      "6 <class 'int'>\n",
      "5 <class 'int'>\n",
      "4 <class 'int'>\n",
      "6 <class 'int'>\n",
      "4 <class 'int'>\n",
      "6 <class 'int'>\n",
      "4 <class 'int'>\n",
      "3 <class 'int'>\n",
      "5 <class 'int'>\n"
     ]
    }
   ],
   "source": [
    "#Good learning example\n",
    "for j in str(i):\n",
    "    print(int(j),type(int(j)))"
   ]
  },
  {
   "cell_type": "code",
   "execution_count": 156,
   "id": "ff69cc0f",
   "metadata": {},
   "outputs": [],
   "source": [
    "t1 = (\"karan\",\"manchanda\",[1,2,3,4,5],(3,4,5,6),{3:3,\"key2\":\"manchanda\"})"
   ]
  },
  {
   "cell_type": "code",
   "execution_count": 152,
   "id": "e74c379d",
   "metadata": {},
   "outputs": [
    {
     "data": {
      "text/plain": [
       "('karan',\n",
       " 'manchanda',\n",
       " [1, 2, 3, 4, 5],\n",
       " (3, 4, 5, 6),\n",
       " {3: 'karan', 'key2': 'manchanda'})"
      ]
     },
     "execution_count": 152,
     "metadata": {},
     "output_type": "execute_result"
    }
   ],
   "source": [
    "t1"
   ]
  },
  {
   "cell_type": "code",
   "execution_count": 148,
   "id": "9ca13d6b",
   "metadata": {},
   "outputs": [
    {
     "name": "stdout",
     "output_type": "stream",
     "text": [
      "3\n",
      "3\n"
     ]
    }
   ],
   "source": [
    "#Good learning example (self)\n",
    "for i in t1:\n",
    "    #print(i)\n",
    "    if type(i) == list or type(i) == tuple:\n",
    "        if 3 in i:\n",
    "            #print(i.index(3))\n",
    "            print(i[i.index(3)])"
   ]
  },
  {
   "cell_type": "code",
   "execution_count": 163,
   "id": "16f8dd31",
   "metadata": {},
   "outputs": [
    {
     "name": "stdout",
     "output_type": "stream",
     "text": [
      "3\n",
      "3\n",
      "3\n",
      "3\n"
     ]
    }
   ],
   "source": [
    "#Good learning example (self)\n",
    "for i in t1:\n",
    "    #print(i)\n",
    "    if type(i) == list or type(i) == tuple:\n",
    "        for j in i:\n",
    "            if j == 3:\n",
    "                print(j)\n",
    "    if type(i) == dict:\n",
    "        for k in i:\n",
    "            if k == 3:\n",
    "                print(k)\n",
    "            if i[k] ==3:\n",
    "                print(i[k])"
   ]
  },
  {
   "cell_type": "code",
   "execution_count": 162,
   "id": "1cf3e1ba",
   "metadata": {},
   "outputs": [
    {
     "name": "stdout",
     "output_type": "stream",
     "text": [
      "3\n",
      "3\n",
      "3\n",
      "3\n"
     ]
    }
   ],
   "source": [
    "#Good learning example (alternate)\n",
    "for i in t1:\n",
    "    #print(i)\n",
    "    if type(i) == list or type(i) == tuple:\n",
    "        for j in i:\n",
    "            if j == 3:\n",
    "                print(j)\n",
    "    if type(i) == dict:\n",
    "        for k,v in i.items():\n",
    "            if k == 3 or v==3:\n",
    "                print(k)\n",
    "                print(v)           "
   ]
  },
  {
   "cell_type": "code",
   "execution_count": 167,
   "id": "4e05f14b",
   "metadata": {},
   "outputs": [],
   "source": [
    "d = {4:5,\"key1\":\"sudh\",\"key2\":\"kumar\"}"
   ]
  },
  {
   "cell_type": "code",
   "execution_count": 169,
   "id": "0ba3b687",
   "metadata": {},
   "outputs": [
    {
     "name": "stdout",
     "output_type": "stream",
     "text": [
      "(4, 5)\n",
      "('key1', 'sudh')\n",
      "('key2', 'kumar')\n"
     ]
    }
   ],
   "source": [
    "for i in d.items():\n",
    "    print(i)"
   ]
  },
  {
   "cell_type": "code",
   "execution_count": 171,
   "id": "f4c88866",
   "metadata": {},
   "outputs": [
    {
     "data": {
      "text/plain": [
       "dict_items([(4, 5), ('key1', 'sudh'), ('key2', 'kumar')])"
      ]
     },
     "execution_count": 171,
     "metadata": {},
     "output_type": "execute_result"
    }
   ],
   "source": [
    "d.items()"
   ]
  },
  {
   "cell_type": "code",
   "execution_count": 172,
   "id": "afa5f4f7",
   "metadata": {},
   "outputs": [
    {
     "data": {
      "text/plain": [
       "3"
      ]
     },
     "execution_count": 172,
     "metadata": {},
     "output_type": "execute_result"
    }
   ],
   "source": [
    "len(d.items())"
   ]
  },
  {
   "cell_type": "code",
   "execution_count": 182,
   "id": "0e7814d0",
   "metadata": {},
   "outputs": [
    {
     "name": "stdout",
     "output_type": "stream",
     "text": [
      "4 5 <class 'int'> <class 'str'>\n",
      "key1 sudh <class 'str'> <class 'str'>\n",
      "key2 kumar <class 'str'> <class 'str'>\n"
     ]
    }
   ],
   "source": [
    "#Good learning example\n",
    "for i,j in d.items():\n",
    "    print(i,j,type(i),type(k))"
   ]
  },
  {
   "cell_type": "code",
   "execution_count": 176,
   "id": "ab6ffc82",
   "metadata": {},
   "outputs": [],
   "source": [
    "#3 types of variable declaration\n",
    "a = 10\n",
    "b = 20\n",
    "c = 30"
   ]
  },
  {
   "cell_type": "code",
   "execution_count": 174,
   "id": "10e5ec5e",
   "metadata": {},
   "outputs": [],
   "source": [
    "a,b,c = 10,20,30"
   ]
  },
  {
   "cell_type": "code",
   "execution_count": 175,
   "id": "c7075e5f",
   "metadata": {},
   "outputs": [],
   "source": [
    "a,b,c = (10,20,30)"
   ]
  },
  {
   "cell_type": "code",
   "execution_count": 179,
   "id": "50a7131b",
   "metadata": {},
   "outputs": [
    {
     "data": {
      "text/plain": [
       "10"
      ]
     },
     "execution_count": 179,
     "metadata": {},
     "output_type": "execute_result"
    }
   ],
   "source": [
    "a"
   ]
  },
  {
   "cell_type": "code",
   "execution_count": 180,
   "id": "207b8a3e",
   "metadata": {},
   "outputs": [
    {
     "data": {
      "text/plain": [
       "20"
      ]
     },
     "execution_count": 180,
     "metadata": {},
     "output_type": "execute_result"
    }
   ],
   "source": [
    "b"
   ]
  },
  {
   "cell_type": "code",
   "execution_count": 181,
   "id": "f865c91a",
   "metadata": {},
   "outputs": [
    {
     "data": {
      "text/plain": [
       "30"
      ]
     },
     "execution_count": 181,
     "metadata": {},
     "output_type": "execute_result"
    }
   ],
   "source": [
    "c"
   ]
  },
  {
   "cell_type": "code",
   "execution_count": null,
   "id": "e9e2de1f",
   "metadata": {},
   "outputs": [],
   "source": []
  }
 ],
 "metadata": {
  "kernelspec": {
   "display_name": "Python 3 (ipykernel)",
   "language": "python",
   "name": "python3"
  },
  "language_info": {
   "codemirror_mode": {
    "name": "ipython",
    "version": 3
   },
   "file_extension": ".py",
   "mimetype": "text/x-python",
   "name": "python",
   "nbconvert_exporter": "python",
   "pygments_lexer": "ipython3",
   "version": "3.9.7"
  }
 },
 "nbformat": 4,
 "nbformat_minor": 5
}
