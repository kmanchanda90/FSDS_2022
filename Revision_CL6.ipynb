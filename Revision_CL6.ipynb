{
 "cells": [
  {
   "cell_type": "code",
   "execution_count": 1,
   "id": "229c1fe8",
   "metadata": {},
   "outputs": [],
   "source": [
    "# while loop, also called conditional loop"
   ]
  },
  {
   "cell_type": "code",
   "execution_count": 2,
   "id": "38a23749",
   "metadata": {},
   "outputs": [
    {
     "name": "stdout",
     "output_type": "stream",
     "text": [
      "1\n",
      "2\n",
      "3\n",
      "4\n",
      "5\n",
      "6\n",
      "7\n",
      "8\n",
      "9\n",
      "10\n"
     ]
    }
   ],
   "source": [
    "a,b = (1,10)\n",
    "while a <= b: #only enters the while loop if the given condition is True\n",
    "    print(a)\n",
    "    a += 1"
   ]
  },
  {
   "cell_type": "code",
   "execution_count": 3,
   "id": "3a1fa38a",
   "metadata": {},
   "outputs": [
    {
     "name": "stdout",
     "output_type": "stream",
     "text": [
      "1\n",
      "3\n",
      "5\n",
      "7\n",
      "9\n",
      "print this else block\n"
     ]
    }
   ],
   "source": [
    "#while-else\n",
    "a = 1\n",
    "while a <= b:\n",
    "    print(a)\n",
    "    a += 2\n",
    "else :\n",
    "    print(\"print this else block\")"
   ]
  },
  {
   "cell_type": "code",
   "execution_count": 4,
   "id": "98a2f859",
   "metadata": {},
   "outputs": [
    {
     "name": "stdout",
     "output_type": "stream",
     "text": [
      "1\n",
      "2\n",
      "3\n",
      "4\n",
      "5\n"
     ]
    }
   ],
   "source": [
    "a,b = (1,10)\n",
    "while a <10:\n",
    "    print(a)\n",
    "    if a == 5:\n",
    "        break   #it terminates a loop\n",
    "    a += 1\n",
    "else:\n",
    "    print(\"print this else block\")"
   ]
  },
  {
   "cell_type": "code",
   "execution_count": 5,
   "id": "3063b52b",
   "metadata": {},
   "outputs": [
    {
     "name": "stdout",
     "output_type": "stream",
     "text": [
      "1\n",
      "2\n",
      "3\n",
      "4\n",
      "5\n",
      "6\n",
      "7\n",
      "8\n",
      "9\n"
     ]
    }
   ],
   "source": [
    "a,b = (1,10)\n",
    "while a<b:\n",
    "    print(a)\n",
    "    if a == 3:\n",
    "        pass\n",
    "        #continue   #will trigger a continuation towards a loop. It doesn't go to the next instruction\n",
    "    a += 1"
   ]
  },
  {
   "cell_type": "code",
   "execution_count": 6,
   "id": "8653deeb",
   "metadata": {},
   "outputs": [
    {
     "name": "stdout",
     "output_type": "stream",
     "text": [
      "2\n",
      "4\n",
      "5\n",
      "6\n",
      "7\n",
      "8\n",
      "9\n",
      "10\n"
     ]
    }
   ],
   "source": [
    "a,b = (1,10)\n",
    "while a<b:\n",
    "    \n",
    "    a += 1\n",
    "    if a == 3:\n",
    "        continue   #will trigger a continuation towards a loop. It doesn't go to the next instructions\n",
    "    print(a)"
   ]
  },
  {
   "cell_type": "code",
   "execution_count": 7,
   "id": "a0e0a021",
   "metadata": {},
   "outputs": [],
   "source": [
    "l = [1,2,3,4,5,65,56]"
   ]
  },
  {
   "cell_type": "code",
   "execution_count": 8,
   "id": "4f022d56",
   "metadata": {},
   "outputs": [
    {
     "name": "stdout",
     "output_type": "stream",
     "text": [
      "1\n",
      "2\n",
      "3\n",
      "4\n",
      "5\n",
      "65\n",
      "56\n"
     ]
    }
   ],
   "source": [
    "for i in l:\n",
    "    print(i)"
   ]
  },
  {
   "cell_type": "code",
   "execution_count": 9,
   "id": "a872f2f8",
   "metadata": {},
   "outputs": [
    {
     "data": {
      "text/plain": [
       "7"
      ]
     },
     "execution_count": 9,
     "metadata": {},
     "output_type": "execute_result"
    }
   ],
   "source": [
    "len(l)"
   ]
  },
  {
   "cell_type": "code",
   "execution_count": 10,
   "id": "75a9d5cd",
   "metadata": {},
   "outputs": [
    {
     "data": {
      "text/plain": [
       "56"
      ]
     },
     "execution_count": 10,
     "metadata": {},
     "output_type": "execute_result"
    }
   ],
   "source": [
    "l[6]"
   ]
  },
  {
   "cell_type": "code",
   "execution_count": 11,
   "id": "a5ef2c33",
   "metadata": {},
   "outputs": [
    {
     "name": "stdout",
     "output_type": "stream",
     "text": [
      "1\n",
      "2\n",
      "3\n",
      "4\n",
      "5\n",
      "65\n",
      "56\n"
     ]
    }
   ],
   "source": [
    "i = 0\n",
    "while i < len(l):\n",
    "    print(l[i])\n",
    "    i += 1"
   ]
  },
  {
   "cell_type": "code",
   "execution_count": 12,
   "id": "ea695f2a",
   "metadata": {},
   "outputs": [
    {
     "data": {
      "text/plain": [
       "7"
      ]
     },
     "execution_count": 12,
     "metadata": {},
     "output_type": "execute_result"
    }
   ],
   "source": [
    "len(l)"
   ]
  },
  {
   "cell_type": "code",
   "execution_count": 13,
   "id": "41228f3a",
   "metadata": {},
   "outputs": [
    {
     "data": {
      "text/plain": [
       "1"
      ]
     },
     "execution_count": 13,
     "metadata": {},
     "output_type": "execute_result"
    }
   ],
   "source": [
    "l[-7]"
   ]
  },
  {
   "cell_type": "code",
   "execution_count": 14,
   "id": "c0a64b41",
   "metadata": {},
   "outputs": [],
   "source": [
    "t = (3,4,5,6,7,8,9)"
   ]
  },
  {
   "cell_type": "code",
   "execution_count": 15,
   "id": "16f1386f",
   "metadata": {},
   "outputs": [
    {
     "name": "stdout",
     "output_type": "stream",
     "text": [
      "index of 6 : 3\n",
      "index of 7 : 4\n"
     ]
    }
   ],
   "source": [
    "i = 0\n",
    "while i < len(l):\n",
    "    if t[i] == 6 or t[i] == 7:\n",
    "        print(\"index of\",t[i],\":\",i)\n",
    "    i += 1"
   ]
  },
  {
   "cell_type": "code",
   "execution_count": 16,
   "id": "d68dea69",
   "metadata": {},
   "outputs": [
    {
     "name": "stdout",
     "output_type": "stream",
     "text": [
      "value at [ -1 ]: 56\n",
      "value at [ -2 ]: 65\n",
      "value at [ -3 ]: 5\n",
      "value at [ -4 ]: 4\n",
      "value at [ -5 ]: 3\n",
      "value at [ -6 ]: 2\n",
      "value at [ -7 ]: 1\n"
     ]
    }
   ],
   "source": [
    "i = -1\n",
    "while i >= -len(l):\n",
    "    print(\"value at [\",i,\"]:\",l[i])\n",
    "    i -= 1"
   ]
  },
  {
   "cell_type": "code",
   "execution_count": 17,
   "id": "90c9fba8",
   "metadata": {},
   "outputs": [
    {
     "name": "stdout",
     "output_type": "stream",
     "text": [
      "value at [ -1 ]: 9\n",
      "value at [ -2 ]: 8\n",
      "value at [ -3 ]: 7\n",
      "value at [ -4 ]: 6\n",
      "value at [ -5 ]: 5\n",
      "value at [ -6 ]: 4\n",
      "value at [ -7 ]: 3\n"
     ]
    }
   ],
   "source": [
    "i = -1\n",
    "while i >= -len(t):\n",
    "    print(\"value at [\",i,\"]:\",t[i])\n",
    "    i -= 1"
   ]
  },
  {
   "cell_type": "code",
   "execution_count": 18,
   "id": "e5157071",
   "metadata": {},
   "outputs": [
    {
     "name": "stdout",
     "output_type": "stream",
     "text": [
      "value at [ -1 ]: 6\n",
      "value at [ -3 ]: 7\n",
      "value at [ -4 ]: 6\n",
      "value at [ -7 ]: 6\n"
     ]
    }
   ],
   "source": [
    "t1 = (6,4,5,6,7,8,6)\n",
    "i = -1\n",
    "while i >= -len(t1):\n",
    "    if t1[i] == 6 or t1[i] == 7:\n",
    "        print(\"value at [\",i,\"]:\",t1[i])\n",
    "    i -= 1"
   ]
  },
  {
   "cell_type": "code",
   "execution_count": 19,
   "id": "5895bee7",
   "metadata": {},
   "outputs": [],
   "source": [
    "d = {'k1':\"karan\",'k2':[1,2,3,4],'k3':(2,3,4,5)}"
   ]
  },
  {
   "cell_type": "code",
   "execution_count": 20,
   "id": "45ee9688",
   "metadata": {},
   "outputs": [
    {
     "data": {
      "text/plain": [
       "{'k1': 'karan', 'k2': [1, 2, 3, 4], 'k3': (2, 3, 4, 5)}"
      ]
     },
     "execution_count": 20,
     "metadata": {},
     "output_type": "execute_result"
    }
   ],
   "source": [
    "d"
   ]
  },
  {
   "cell_type": "code",
   "execution_count": 21,
   "id": "4812a2c8",
   "metadata": {},
   "outputs": [
    {
     "name": "stdout",
     "output_type": "stream",
     "text": [
      "karan\n",
      "[1, 2, 3, 4]\n",
      "(2, 3, 4, 5)\n"
     ]
    }
   ],
   "source": [
    "for i in d:\n",
    "    print(d[i])"
   ]
  },
  {
   "cell_type": "code",
   "execution_count": 22,
   "id": "6bc99962",
   "metadata": {},
   "outputs": [
    {
     "name": "stdout",
     "output_type": "stream",
     "text": [
      "k1\n",
      "karan\n",
      "k2\n",
      "[1, 2, 3, 4]\n",
      "k3\n",
      "(2, 3, 4, 5)\n"
     ]
    }
   ],
   "source": [
    "for u,v in d.items():\n",
    "    print(u)\n",
    "    print(v)"
   ]
  },
  {
   "cell_type": "code",
   "execution_count": 23,
   "id": "7864ec9a",
   "metadata": {},
   "outputs": [
    {
     "name": "stdout",
     "output_type": "stream",
     "text": [
      "k1 : karan\n",
      "k2 : [1, 2, 3, 4]\n",
      "k3 : (2, 3, 4, 5)\n"
     ]
    }
   ],
   "source": [
    "#Good learning example\n",
    "a = 0\n",
    "b = list(d.keys())   #Important thing to remember of extracting the keys\n",
    "while a < len(d):\n",
    "    print(b[a],\":\",d[b[a]])\n",
    "    a += 1   #This is very important else it will always keep you in an infinite loop"
   ]
  },
  {
   "cell_type": "markdown",
   "id": "fc586f24",
   "metadata": {},
   "source": [
    "# functions\n",
    "len()\n",
    "range()\n",
    "print()\n",
    "keys()\n",
    "values()\n",
    "items()\n",
    "append()\n",
    "pop()\n",
    "insert()\n",
    "extend()\n",
    "\n",
    "How to write our own custom functions?"
   ]
  },
  {
   "cell_type": "raw",
   "id": "e7ea33c9",
   "metadata": {},
   "source": [
    "#Defining and calling a function\n",
    "#Print vs Return\n",
    "#Returning multiple values -> a tuple\n",
    "#Multivariable assignment using 3\n",
    "#Use of a placeholder(_)\n",
    "#Function helps in reusability of the code (and also modularity)"
   ]
  },
  {
   "cell_type": "code",
   "execution_count": 24,
   "id": "fe33e6b4",
   "metadata": {},
   "outputs": [],
   "source": [
    "def fun0():   #Defining a fn\n",
    "    print(\"This is my first function\")"
   ]
  },
  {
   "cell_type": "code",
   "execution_count": 25,
   "id": "edff6c33",
   "metadata": {},
   "outputs": [
    {
     "name": "stdout",
     "output_type": "stream",
     "text": [
      "This is my first function\n"
     ]
    }
   ],
   "source": [
    "fun0()   #Calling a fn"
   ]
  },
  {
   "cell_type": "raw",
   "id": "74ce8377",
   "metadata": {},
   "source": [
    "Why this concatenation doesn't work?\n",
    "fun0() + \"karan\"\n",
    "\n",
    "This is my first function\n",
    "---------------------------------------------------------------------------\n",
    "TypeError                                 Traceback (most recent call last)\n",
    "C:\\Users\\KARAN~1.MAN\\AppData\\Local\\Temp/ipykernel_24252/3711874682.py in <module>\n",
    "----> 1 fun0() + \"karan\"\n",
    "\n",
    "TypeError: unsupported operand type(s) for +: 'NoneType' and 'str'\n"
   ]
  },
  {
   "cell_type": "code",
   "execution_count": 26,
   "id": "7a7652d3",
   "metadata": {},
   "outputs": [
    {
     "name": "stdout",
     "output_type": "stream",
     "text": [
      "This is my first function\n"
     ]
    },
    {
     "data": {
      "text/plain": [
       "NoneType"
      ]
     },
     "execution_count": 26,
     "metadata": {},
     "output_type": "execute_result"
    }
   ],
   "source": [
    "type(fun0())"
   ]
  },
  {
   "cell_type": "code",
   "execution_count": 27,
   "id": "aaf65460",
   "metadata": {},
   "outputs": [
    {
     "name": "stdout",
     "output_type": "stream",
     "text": [
      "This is my first function\n"
     ]
    },
    {
     "data": {
      "text/plain": [
       "'Nonekaran'"
      ]
     },
     "execution_count": 27,
     "metadata": {},
     "output_type": "execute_result"
    }
   ],
   "source": [
    "str(fun0()) + \"karan\""
   ]
  },
  {
   "cell_type": "code",
   "execution_count": 28,
   "id": "0ff8770a",
   "metadata": {},
   "outputs": [
    {
     "name": "stdout",
     "output_type": "stream",
     "text": [
      "test\n"
     ]
    },
    {
     "data": {
      "text/plain": [
       "'None'"
      ]
     },
     "execution_count": 28,
     "metadata": {},
     "output_type": "execute_result"
    }
   ],
   "source": [
    "str(print(\"test\"))"
   ]
  },
  {
   "cell_type": "code",
   "execution_count": 29,
   "id": "2e0bb6f9",
   "metadata": {},
   "outputs": [],
   "source": [
    "def fun1():\n",
    "    a = print(\"ANV\")\n",
    "    return a"
   ]
  },
  {
   "cell_type": "code",
   "execution_count": 30,
   "id": "111d7855",
   "metadata": {},
   "outputs": [
    {
     "name": "stdout",
     "output_type": "stream",
     "text": [
      "ANV\n"
     ]
    }
   ],
   "source": [
    "fun1()"
   ]
  },
  {
   "cell_type": "code",
   "execution_count": 31,
   "id": "a7dbf492",
   "metadata": {},
   "outputs": [
    {
     "name": "stdout",
     "output_type": "stream",
     "text": [
      "ANV\n"
     ]
    },
    {
     "data": {
      "text/plain": [
       "NoneType"
      ]
     },
     "execution_count": 31,
     "metadata": {},
     "output_type": "execute_result"
    }
   ],
   "source": [
    "type(fun1())"
   ]
  },
  {
   "cell_type": "code",
   "execution_count": 32,
   "id": "687134b8",
   "metadata": {},
   "outputs": [
    {
     "name": "stdout",
     "output_type": "stream",
     "text": [
      "ANV\n",
      "None\n"
     ]
    }
   ],
   "source": [
    "print(fun1())"
   ]
  },
  {
   "cell_type": "code",
   "execution_count": 33,
   "id": "5eb84947",
   "metadata": {},
   "outputs": [],
   "source": [
    "def fun2():\n",
    "    return \"this is my first function\""
   ]
  },
  {
   "cell_type": "code",
   "execution_count": 34,
   "id": "8836851e",
   "metadata": {},
   "outputs": [
    {
     "data": {
      "text/plain": [
       "'this is my first function'"
      ]
     },
     "execution_count": 34,
     "metadata": {},
     "output_type": "execute_result"
    }
   ],
   "source": [
    "fun2()"
   ]
  },
  {
   "cell_type": "code",
   "execution_count": 35,
   "id": "01f95964",
   "metadata": {},
   "outputs": [
    {
     "data": {
      "text/plain": [
       "str"
      ]
     },
     "execution_count": 35,
     "metadata": {},
     "output_type": "execute_result"
    }
   ],
   "source": [
    "type(fun2())"
   ]
  },
  {
   "cell_type": "code",
   "execution_count": 36,
   "id": "7f249a03",
   "metadata": {},
   "outputs": [
    {
     "data": {
      "text/plain": [
       "'this is my first function :Karan'"
      ]
     },
     "execution_count": 36,
     "metadata": {},
     "output_type": "execute_result"
    }
   ],
   "source": [
    "fun2()+\" :Karan\""
   ]
  },
  {
   "cell_type": "code",
   "execution_count": 37,
   "id": "b82f75e6",
   "metadata": {},
   "outputs": [],
   "source": [
    "def fun3():\n",
    "    pass"
   ]
  },
  {
   "cell_type": "code",
   "execution_count": 38,
   "id": "4eeb895b",
   "metadata": {},
   "outputs": [],
   "source": [
    "fun3()"
   ]
  },
  {
   "cell_type": "code",
   "execution_count": 39,
   "id": "e0ee8e80",
   "metadata": {},
   "outputs": [],
   "source": [
    "def fun4():\n",
    "    return 1,3,5,[1,2,3,4,54,5]"
   ]
  },
  {
   "cell_type": "code",
   "execution_count": 40,
   "id": "3df726e2",
   "metadata": {},
   "outputs": [
    {
     "data": {
      "text/plain": [
       "(1, 3, 5, [1, 2, 3, 4, 54, 5])"
      ]
     },
     "execution_count": 40,
     "metadata": {},
     "output_type": "execute_result"
    }
   ],
   "source": [
    "fun4()   #for multiple items, it returns as a tuple "
   ]
  },
  {
   "cell_type": "code",
   "execution_count": 41,
   "id": "480f03ec",
   "metadata": {},
   "outputs": [],
   "source": [
    "def fun5():\n",
    "    return \"test\",133,{1:3,2:6}"
   ]
  },
  {
   "cell_type": "code",
   "execution_count": 42,
   "id": "526093c7",
   "metadata": {},
   "outputs": [
    {
     "data": {
      "text/plain": [
       "('test', 133, {1: 3, 2: 6})"
      ]
     },
     "execution_count": 42,
     "metadata": {},
     "output_type": "execute_result"
    }
   ],
   "source": [
    "fun5()"
   ]
  },
  {
   "cell_type": "code",
   "execution_count": 43,
   "id": "a9a4ece3",
   "metadata": {},
   "outputs": [],
   "source": [
    "a = fun4()"
   ]
  },
  {
   "cell_type": "code",
   "execution_count": 44,
   "id": "412a9dea",
   "metadata": {},
   "outputs": [
    {
     "data": {
      "text/plain": [
       "(1, 3, 5, [1, 2, 3, 4, 54, 5])"
      ]
     },
     "execution_count": 44,
     "metadata": {},
     "output_type": "execute_result"
    }
   ],
   "source": [
    "a"
   ]
  },
  {
   "cell_type": "code",
   "execution_count": 45,
   "id": "4b633fbf",
   "metadata": {},
   "outputs": [],
   "source": [
    "a,b,c = fun5()"
   ]
  },
  {
   "cell_type": "code",
   "execution_count": 46,
   "id": "878442f2",
   "metadata": {},
   "outputs": [
    {
     "data": {
      "text/plain": [
       "'test'"
      ]
     },
     "execution_count": 46,
     "metadata": {},
     "output_type": "execute_result"
    }
   ],
   "source": [
    "a"
   ]
  },
  {
   "cell_type": "code",
   "execution_count": 47,
   "id": "4bccd452",
   "metadata": {},
   "outputs": [
    {
     "data": {
      "text/plain": [
       "133"
      ]
     },
     "execution_count": 47,
     "metadata": {},
     "output_type": "execute_result"
    }
   ],
   "source": [
    "b"
   ]
  },
  {
   "cell_type": "code",
   "execution_count": 48,
   "id": "65706f1c",
   "metadata": {},
   "outputs": [
    {
     "data": {
      "text/plain": [
       "{1: 3, 2: 6}"
      ]
     },
     "execution_count": 48,
     "metadata": {},
     "output_type": "execute_result"
    }
   ],
   "source": [
    "c"
   ]
  },
  {
   "cell_type": "code",
   "execution_count": 49,
   "id": "6bdb0f34",
   "metadata": {},
   "outputs": [],
   "source": [
    "a,b,c,d = fun4()"
   ]
  },
  {
   "cell_type": "code",
   "execution_count": 50,
   "id": "f056ba3c",
   "metadata": {},
   "outputs": [
    {
     "data": {
      "text/plain": [
       "1"
      ]
     },
     "execution_count": 50,
     "metadata": {},
     "output_type": "execute_result"
    }
   ],
   "source": [
    "a"
   ]
  },
  {
   "cell_type": "code",
   "execution_count": 51,
   "id": "20004a69",
   "metadata": {},
   "outputs": [
    {
     "data": {
      "text/plain": [
       "3"
      ]
     },
     "execution_count": 51,
     "metadata": {},
     "output_type": "execute_result"
    }
   ],
   "source": [
    "b"
   ]
  },
  {
   "cell_type": "code",
   "execution_count": 52,
   "id": "eda44652",
   "metadata": {},
   "outputs": [
    {
     "data": {
      "text/plain": [
       "5"
      ]
     },
     "execution_count": 52,
     "metadata": {},
     "output_type": "execute_result"
    }
   ],
   "source": [
    "c"
   ]
  },
  {
   "cell_type": "code",
   "execution_count": 53,
   "id": "d24674cc",
   "metadata": {},
   "outputs": [
    {
     "data": {
      "text/plain": [
       "[1, 2, 3, 4, 54, 5]"
      ]
     },
     "execution_count": 53,
     "metadata": {},
     "output_type": "execute_result"
    }
   ],
   "source": [
    "d"
   ]
  },
  {
   "cell_type": "code",
   "execution_count": 54,
   "id": "d074c9be",
   "metadata": {},
   "outputs": [],
   "source": [
    "a,b,c = (1,2,3)   #this principle"
   ]
  },
  {
   "cell_type": "code",
   "execution_count": 55,
   "id": "bcdf3470",
   "metadata": {},
   "outputs": [],
   "source": [
    "def fun6():\n",
    "    a = 4*5\n",
    "    b = 6+4\n",
    "    return a,b"
   ]
  },
  {
   "cell_type": "code",
   "execution_count": 56,
   "id": "47c503dd",
   "metadata": {},
   "outputs": [
    {
     "data": {
      "text/plain": [
       "(20, 10)"
      ]
     },
     "execution_count": 56,
     "metadata": {},
     "output_type": "execute_result"
    }
   ],
   "source": [
    "fun6()"
   ]
  },
  {
   "cell_type": "code",
   "execution_count": 57,
   "id": "362b5e66",
   "metadata": {},
   "outputs": [],
   "source": [
    "g = fun6()"
   ]
  },
  {
   "cell_type": "code",
   "execution_count": 58,
   "id": "b7c4fcac",
   "metadata": {},
   "outputs": [],
   "source": [
    "j,k = fun6()"
   ]
  },
  {
   "cell_type": "code",
   "execution_count": 59,
   "id": "f3fdd368",
   "metadata": {},
   "outputs": [
    {
     "data": {
      "text/plain": [
       "20"
      ]
     },
     "execution_count": 59,
     "metadata": {},
     "output_type": "execute_result"
    }
   ],
   "source": [
    "j"
   ]
  },
  {
   "cell_type": "code",
   "execution_count": 60,
   "id": "b22d2b79",
   "metadata": {},
   "outputs": [
    {
     "data": {
      "text/plain": [
       "10"
      ]
     },
     "execution_count": 60,
     "metadata": {},
     "output_type": "execute_result"
    }
   ],
   "source": [
    "k"
   ]
  },
  {
   "cell_type": "code",
   "execution_count": 61,
   "id": "2c4afb20",
   "metadata": {},
   "outputs": [],
   "source": [
    "_,m = fun6()   #using a placeholder"
   ]
  },
  {
   "cell_type": "code",
   "execution_count": 62,
   "id": "cd183c8b",
   "metadata": {},
   "outputs": [
    {
     "data": {
      "text/plain": [
       "10"
      ]
     },
     "execution_count": 62,
     "metadata": {},
     "output_type": "execute_result"
    }
   ],
   "source": [
    "m"
   ]
  },
  {
   "cell_type": "code",
   "execution_count": 63,
   "id": "7a088681",
   "metadata": {},
   "outputs": [
    {
     "data": {
      "text/plain": [
       "20"
      ]
     },
     "execution_count": 63,
     "metadata": {},
     "output_type": "execute_result"
    }
   ],
   "source": [
    "_"
   ]
  },
  {
   "cell_type": "code",
   "execution_count": 64,
   "id": "d377ea56",
   "metadata": {},
   "outputs": [],
   "source": [
    "_,_,_,l0 = fun4()"
   ]
  },
  {
   "cell_type": "code",
   "execution_count": 65,
   "id": "a69c2451",
   "metadata": {},
   "outputs": [
    {
     "data": {
      "text/plain": [
       "[1, 2, 3, 4, 54, 5]"
      ]
     },
     "execution_count": 65,
     "metadata": {},
     "output_type": "execute_result"
    }
   ],
   "source": [
    "l0"
   ]
  },
  {
   "cell_type": "code",
   "execution_count": 66,
   "id": "25c5cfc9",
   "metadata": {},
   "outputs": [],
   "source": [
    "def fun7(a,b): #Method 2: whatever var we have used, keep them as an arguement\n",
    "    #a,b = (1,10) #Method 1\n",
    "    while a <= b:\n",
    "        # print(a)\n",
    "        return a\n",
    "        a += 2\n",
    "    else :\n",
    "        return \"print this else block\"\n",
    "#If we get a return, it will not look for the next one. It will return and then close.\n",
    "#How to fix this?"
   ]
  },
  {
   "cell_type": "code",
   "execution_count": 67,
   "id": "284bc57f",
   "metadata": {},
   "outputs": [],
   "source": [
    "def fun8(a,b): #Method 2: whatever var we have used, keep them as an arguement\n",
    "    #a,b = (1,10) #Method 1\n",
    "    l = []\n",
    "    while a <= b:\n",
    "        # print(a)\n",
    "        #return a\n",
    "        l.append(a)\n",
    "        a += 2\n",
    "    else :\n",
    "        print (\"print this else block\")\n",
    "    return l\n",
    "#If we get a return, it will not look for the next one. It will return and then close.\n",
    "#How to fix this? using a list"
   ]
  },
  {
   "cell_type": "code",
   "execution_count": 68,
   "id": "25d206b7",
   "metadata": {},
   "outputs": [
    {
     "data": {
      "text/plain": [
       "1"
      ]
     },
     "execution_count": 68,
     "metadata": {},
     "output_type": "execute_result"
    }
   ],
   "source": [
    "fun7(1,10) #at the time of function call, we can pass the value of a and b > Dynamic assignment"
   ]
  },
  {
   "cell_type": "code",
   "execution_count": 69,
   "id": "04640d92",
   "metadata": {},
   "outputs": [
    {
     "name": "stdout",
     "output_type": "stream",
     "text": [
      "print this else block\n"
     ]
    },
    {
     "data": {
      "text/plain": [
       "[1, 3, 5, 7, 9]"
      ]
     },
     "execution_count": 69,
     "metadata": {},
     "output_type": "execute_result"
    }
   ],
   "source": [
    "fun8(1,10)"
   ]
  },
  {
   "cell_type": "code",
   "execution_count": 70,
   "id": "92cb1d4a",
   "metadata": {},
   "outputs": [
    {
     "data": {
      "text/plain": [
       "int"
      ]
     },
     "execution_count": 70,
     "metadata": {},
     "output_type": "execute_result"
    }
   ],
   "source": [
    "type(fun7(2,9))"
   ]
  },
  {
   "cell_type": "code",
   "execution_count": 71,
   "id": "7ea51cb2",
   "metadata": {},
   "outputs": [
    {
     "data": {
      "text/plain": [
       "8"
      ]
     },
     "execution_count": 71,
     "metadata": {},
     "output_type": "execute_result"
    }
   ],
   "source": [
    "fun7(8,67)"
   ]
  },
  {
   "cell_type": "code",
   "execution_count": 72,
   "id": "8908f76a",
   "metadata": {},
   "outputs": [
    {
     "data": {
      "text/plain": [
       "str"
      ]
     },
     "execution_count": 72,
     "metadata": {},
     "output_type": "execute_result"
    }
   ],
   "source": [
    "type(fun7(90,1))"
   ]
  },
  {
   "cell_type": "code",
   "execution_count": 73,
   "id": "b692ce5b",
   "metadata": {},
   "outputs": [],
   "source": [
    "l1 = [4,5,6,67,8,8,9,9,9,[3,4,5,6,7,7],\"sudh\"]"
   ]
  },
  {
   "cell_type": "code",
   "execution_count": 74,
   "id": "87bfe977",
   "metadata": {},
   "outputs": [],
   "source": [
    "def int_list(l):\n",
    "    \"\"\"Returns a list of integers\"\"\"\n",
    "    li = []\n",
    "    for i in l:\n",
    "        if type(i) == int:\n",
    "            li.append(i)\n",
    "        elif type(i) == list or type(i) == tuple or type(i) == set:\n",
    "            for k in i:\n",
    "                if type(k) == int:\n",
    "                    li.append(k)\n",
    "    return li"
   ]
  },
  {
   "cell_type": "code",
   "execution_count": 75,
   "id": "8d6ecaa1",
   "metadata": {},
   "outputs": [
    {
     "data": {
      "text/plain": [
       "[4, 5, 6, 67, 8, 8, 9, 9, 9, 3, 4, 5, 6, 7, 7]"
      ]
     },
     "execution_count": 75,
     "metadata": {},
     "output_type": "execute_result"
    }
   ],
   "source": [
    "int_list(l1)"
   ]
  },
  {
   "cell_type": "code",
   "execution_count": 76,
   "id": "32c70cfe",
   "metadata": {},
   "outputs": [
    {
     "name": "stdout",
     "output_type": "stream",
     "text": [
      "index of 7 is [ -2 ]\n",
      "index of 6 is [ -4 ]\n"
     ]
    }
   ],
   "source": [
    "t2 = (3,4,5,6,67,7,87)\n",
    "i = -1\n",
    "while i >= -len(t2):\n",
    "    if t2[i] == 6 or t2[i] == 7:\n",
    "        print(\"index of\",t2[i],\"is [\",i,\"]\")\n",
    "    i -= 1"
   ]
  },
  {
   "cell_type": "code",
   "execution_count": 77,
   "id": "c8ef3c83",
   "metadata": {},
   "outputs": [],
   "source": [
    "def indx_6_7(t):\n",
    "    i = -1\n",
    "    while i >= -len(t):\n",
    "        if t[i] == 6 or t[i] == 7:\n",
    "            print(\"index of\",t[i],\"is [\",i,\"]\")\n",
    "        i -= 1"
   ]
  },
  {
   "cell_type": "code",
   "execution_count": 78,
   "id": "7e34f145",
   "metadata": {},
   "outputs": [
    {
     "name": "stdout",
     "output_type": "stream",
     "text": [
      "index of 7 is [ -2 ]\n",
      "index of 6 is [ -4 ]\n"
     ]
    }
   ],
   "source": [
    "indx_6_7(t2)"
   ]
  },
  {
   "cell_type": "code",
   "execution_count": 79,
   "id": "4b23074b",
   "metadata": {},
   "outputs": [
    {
     "data": {
      "text/plain": [
       "(3, 4, 5, 6, 67, 7, 87)"
      ]
     },
     "execution_count": 79,
     "metadata": {},
     "output_type": "execute_result"
    }
   ],
   "source": [
    "t2"
   ]
  },
  {
   "cell_type": "code",
   "execution_count": 80,
   "id": "39e6b535",
   "metadata": {},
   "outputs": [
    {
     "name": "stdout",
     "output_type": "stream",
     "text": [
      "index of 6 is [ -4 ]\n",
      "index of 6 is [ -5 ]\n",
      "index of 7 is [ -6 ]\n",
      "index of 6 is [ -7 ]\n",
      "index of 6 is [ -8 ]\n"
     ]
    }
   ],
   "source": [
    "indx_6_7((3,4,5,5,3,6,6,7,6,6,1,2,2))"
   ]
  },
  {
   "cell_type": "code",
   "execution_count": null,
   "id": "030a96f1",
   "metadata": {},
   "outputs": [],
   "source": []
  }
 ],
 "metadata": {
  "kernelspec": {
   "display_name": "Python 3 (ipykernel)",
   "language": "python",
   "name": "python3"
  },
  "language_info": {
   "codemirror_mode": {
    "name": "ipython",
    "version": 3
   },
   "file_extension": ".py",
   "mimetype": "text/x-python",
   "name": "python",
   "nbconvert_exporter": "python",
   "pygments_lexer": "ipython3",
   "version": "3.9.7"
  }
 },
 "nbformat": 4,
 "nbformat_minor": 5
}
