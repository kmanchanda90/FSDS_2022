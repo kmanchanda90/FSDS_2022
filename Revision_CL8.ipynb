{
 "cells": [
  {
   "cell_type": "code",
   "execution_count": 1,
   "id": "3b7e2ecd",
   "metadata": {},
   "outputs": [],
   "source": [
    "#Revision_CL7: pending (it was a revision of all the class tasks)"
   ]
  },
  {
   "cell_type": "code",
   "execution_count": 2,
   "id": "7c4f48b1",
   "metadata": {},
   "outputs": [],
   "source": [
    "def sm_2(a,b):\n",
    "    \"\"\"This fn will create a sum of two variables\"\"\"   #even single quotes work here #defining a docstring\n",
    "    return a + b"
   ]
  },
  {
   "cell_type": "code",
   "execution_count": 3,
   "id": "ed4697c8",
   "metadata": {},
   "outputs": [
    {
     "data": {
      "text/plain": [
       "10"
      ]
     },
     "execution_count": 3,
     "metadata": {},
     "output_type": "execute_result"
    }
   ],
   "source": [
    "sm_2(4,6)"
   ]
  },
  {
   "cell_type": "code",
   "execution_count": 4,
   "id": "38c46b4a",
   "metadata": {},
   "outputs": [
    {
     "data": {
      "text/plain": [
       "'karanmanchanda'"
      ]
     },
     "execution_count": 4,
     "metadata": {},
     "output_type": "execute_result"
    }
   ],
   "source": [
    "sm_2(\"karan\",\"manchanda\")"
   ]
  },
  {
   "cell_type": "code",
   "execution_count": 5,
   "id": "a60908bd",
   "metadata": {},
   "outputs": [
    {
     "data": {
      "text/plain": [
       "30"
      ]
     },
     "execution_count": 5,
     "metadata": {},
     "output_type": "execute_result"
    }
   ],
   "source": [
    "sm_2(a=10,b=20)"
   ]
  },
  {
   "cell_type": "code",
   "execution_count": 6,
   "id": "385303cf",
   "metadata": {},
   "outputs": [
    {
     "data": {
      "text/plain": [
       "30"
      ]
     },
     "execution_count": 6,
     "metadata": {},
     "output_type": "execute_result"
    }
   ],
   "source": [
    "sm_2(b=10,a=20)"
   ]
  },
  {
   "cell_type": "code",
   "execution_count": 7,
   "id": "69bb7f99",
   "metadata": {},
   "outputs": [],
   "source": [
    "def func0(a,b,c,d,e):\n",
    "    '''test of 5 varibles'''\n",
    "    return a,b,c,d,e"
   ]
  },
  {
   "cell_type": "code",
   "execution_count": 8,
   "id": "7ca7251b",
   "metadata": {},
   "outputs": [
    {
     "data": {
      "text/plain": [
       "(3, 4, 5, 6, 1)"
      ]
     },
     "execution_count": 8,
     "metadata": {},
     "output_type": "execute_result"
    }
   ],
   "source": [
    "func0(3,4,5,6,1)   #expects five variable, less or more won't work in this case"
   ]
  },
  {
   "cell_type": "markdown",
   "id": "1441e656",
   "metadata": {},
   "source": [
    "# How to remove the limitation?"
   ]
  },
  {
   "cell_type": "code",
   "execution_count": 9,
   "id": "b20e1b73",
   "metadata": {},
   "outputs": [],
   "source": [
    "def func1(*a):   #a function which can take n number of arguments\n",
    "    return a"
   ]
  },
  {
   "cell_type": "code",
   "execution_count": 10,
   "id": "04f5a55a",
   "metadata": {},
   "outputs": [
    {
     "data": {
      "text/plain": [
       "(3, 4)"
      ]
     },
     "execution_count": 10,
     "metadata": {},
     "output_type": "execute_result"
    }
   ],
   "source": [
    "func1(3,4)"
   ]
  },
  {
   "cell_type": "code",
   "execution_count": 11,
   "id": "86955db1",
   "metadata": {},
   "outputs": [
    {
     "data": {
      "text/plain": [
       "(1, 3, 4, 2, 1)"
      ]
     },
     "execution_count": 11,
     "metadata": {},
     "output_type": "execute_result"
    }
   ],
   "source": [
    "func1(1,3,4,2,1)"
   ]
  },
  {
   "cell_type": "code",
   "execution_count": 12,
   "id": "1ffd2a45",
   "metadata": {},
   "outputs": [
    {
     "data": {
      "text/plain": [
       "(1, 3, 1, 3, [3, 3, 3])"
      ]
     },
     "execution_count": 12,
     "metadata": {},
     "output_type": "execute_result"
    }
   ],
   "source": [
    "func1(1,3,1,3,[3,3,3])"
   ]
  },
  {
   "cell_type": "code",
   "execution_count": 13,
   "id": "11140de9",
   "metadata": {},
   "outputs": [
    {
     "data": {
      "text/plain": [
       "(1, 2, 3, 2, 13, 1, [13, 2, 1], (1, 3, 32, 2))"
      ]
     },
     "execution_count": 13,
     "metadata": {},
     "output_type": "execute_result"
    }
   ],
   "source": [
    "func1(1,2,3,2,13,1,[13,2,1],(1,3,32,2))"
   ]
  },
  {
   "cell_type": "code",
   "execution_count": 14,
   "id": "f4604242",
   "metadata": {},
   "outputs": [],
   "source": [
    "def func2(*args):   #args is not a reserved keyword\n",
    "    return args"
   ]
  },
  {
   "cell_type": "code",
   "execution_count": 15,
   "id": "77c3b304",
   "metadata": {},
   "outputs": [
    {
     "data": {
      "text/plain": [
       "(3, 2, 3, 21, 3, 2, 23, 3233, 222)"
      ]
     },
     "execution_count": 15,
     "metadata": {},
     "output_type": "execute_result"
    }
   ],
   "source": [
    "func2(3,2,3,21,3,2,23,3233,222)"
   ]
  },
  {
   "cell_type": "code",
   "execution_count": 16,
   "id": "71911e23",
   "metadata": {},
   "outputs": [],
   "source": [
    "def lst(*a):\n",
    "    '''return the arguments as a list'''\n",
    "    l = []\n",
    "    for i in a:\n",
    "        l.append(i)\n",
    "    return l"
   ]
  },
  {
   "cell_type": "code",
   "execution_count": 17,
   "id": "abbcd9f3",
   "metadata": {},
   "outputs": [
    {
     "data": {
      "text/plain": [
       "[3, 2, 2, 2, 32, 2, 3, 2, 2, [3, 3, 32, 13, 13, 3]]"
      ]
     },
     "execution_count": 17,
     "metadata": {},
     "output_type": "execute_result"
    }
   ],
   "source": [
    "lst(3,2,2,2,32,2,3,2,2,[3,3,32,13,13,3])"
   ]
  },
  {
   "cell_type": "code",
   "execution_count": 18,
   "id": "52aab781",
   "metadata": {},
   "outputs": [
    {
     "data": {
      "text/plain": [
       "[2, 34, 2, 2]"
      ]
     },
     "execution_count": 18,
     "metadata": {},
     "output_type": "execute_result"
    }
   ],
   "source": [
    "lst(2,34,2,2)"
   ]
  },
  {
   "cell_type": "code",
   "execution_count": 19,
   "id": "b65076f1",
   "metadata": {},
   "outputs": [],
   "source": [
    "# Case 1   #It works\n",
    "def func3(a,b,c,d, *m):   #first four entries are considered for the normal variables and rest are passed for m\n",
    "    return a,b,c,d,m"
   ]
  },
  {
   "cell_type": "code",
   "execution_count": 20,
   "id": "ecbe5f03",
   "metadata": {},
   "outputs": [
    {
     "data": {
      "text/plain": [
       "(3, 4, 5, 4, (4, 3, 22, 2, 22, 22, 2))"
      ]
     },
     "execution_count": 20,
     "metadata": {},
     "output_type": "execute_result"
    }
   ],
   "source": [
    "func3(3,4,5,4,4,3,22,2,22,22,2)"
   ]
  },
  {
   "cell_type": "code",
   "execution_count": 21,
   "id": "9450a987",
   "metadata": {},
   "outputs": [],
   "source": [
    "# Case 2   #It doesn't work\n",
    "def func4(*m, a,b,c,d,e):  \n",
    "    return m,a,b,c,d,e   #gives all arguments to m and the remaining variables still expecting a value"
   ]
  },
  {
   "cell_type": "code",
   "execution_count": 22,
   "id": "3cab6818",
   "metadata": {},
   "outputs": [
    {
     "data": {
      "text/plain": [
       "((2, 2, 4, 3, 32, 2, 2, 2, 2, 23, 23), 1, 2, 19, 12, 323)"
      ]
     },
     "execution_count": 22,
     "metadata": {},
     "output_type": "execute_result"
    }
   ],
   "source": [
    "func4(2,2,4,3,32,2,2,2,2,23,23,a=1,b=2,c=19,d=12,e=323)   #This is how it works"
   ]
  },
  {
   "cell_type": "code",
   "execution_count": 23,
   "id": "d16d0621",
   "metadata": {},
   "outputs": [],
   "source": [
    "#Case 3: Need to pass key-value pair\n",
    "def kward(**kwargs):   #for n number of key-values arguments\n",
    "    return kwargs"
   ]
  },
  {
   "cell_type": "code",
   "execution_count": 24,
   "id": "fc881e5f",
   "metadata": {},
   "outputs": [],
   "source": [
    "d = kward(b=3,c=5,d=2,e=2)   #Kind of arguments it expects"
   ]
  },
  {
   "cell_type": "code",
   "execution_count": 25,
   "id": "b030d724",
   "metadata": {},
   "outputs": [
    {
     "data": {
      "text/plain": [
       "dict"
      ]
     },
     "execution_count": 25,
     "metadata": {},
     "output_type": "execute_result"
    }
   ],
   "source": [
    "type(d)"
   ]
  },
  {
   "cell_type": "code",
   "execution_count": 26,
   "id": "8bb018e0",
   "metadata": {},
   "outputs": [],
   "source": [
    "def func4(*m, **s):\n",
    "    return m,s   #categorize automatically if key-value pair, it is defined as a dict & the remaining goes inside tuple"
   ]
  },
  {
   "cell_type": "code",
   "execution_count": 27,
   "id": "9cff13c0",
   "metadata": {},
   "outputs": [
    {
     "data": {
      "text/plain": [
       "((1, 23, 43, 2, 43, 32, 2), {'a': 1, 'b': 2, 'c': 5})"
      ]
     },
     "execution_count": 27,
     "metadata": {},
     "output_type": "execute_result"
    }
   ],
   "source": [
    "func4(1,23,43,2,43,32,2,a=1,b=2,c=5)"
   ]
  },
  {
   "cell_type": "code",
   "execution_count": 28,
   "id": "2618b862",
   "metadata": {},
   "outputs": [],
   "source": [
    "def summ(*m):\n",
    "    sum = 0\n",
    "    for i in m:\n",
    "        if type(i) == int:\n",
    "             sum = sum + i\n",
    "    return sum "
   ]
  },
  {
   "cell_type": "code",
   "execution_count": 29,
   "id": "3d8b3980",
   "metadata": {},
   "outputs": [
    {
     "data": {
      "text/plain": [
       "9"
      ]
     },
     "execution_count": 29,
     "metadata": {},
     "output_type": "execute_result"
    }
   ],
   "source": [
    "summ(1,3,3,2)"
   ]
  },
  {
   "cell_type": "code",
   "execution_count": 30,
   "id": "4d75405b",
   "metadata": {},
   "outputs": [
    {
     "data": {
      "text/plain": [
       "2473"
      ]
     },
     "execution_count": 30,
     "metadata": {},
     "output_type": "execute_result"
    }
   ],
   "source": [
    "summ(2,13,23,2312,32,3,22,32,32,2)"
   ]
  },
  {
   "cell_type": "code",
   "execution_count": 31,
   "id": "0c304efc",
   "metadata": {},
   "outputs": [],
   "source": [
    "def mul(*m):\n",
    "    mul = 1\n",
    "    for i in m:\n",
    "        if type(i) == int:\n",
    "             mul = mul * i\n",
    "    return mul "
   ]
  },
  {
   "cell_type": "code",
   "execution_count": 32,
   "id": "82fab9b8",
   "metadata": {},
   "outputs": [
    {
     "data": {
      "text/plain": [
       "96"
      ]
     },
     "execution_count": 32,
     "metadata": {},
     "output_type": "execute_result"
    }
   ],
   "source": [
    "mul(1,3,32,1)"
   ]
  },
  {
   "cell_type": "code",
   "execution_count": 33,
   "id": "0aa9cd37",
   "metadata": {},
   "outputs": [
    {
     "data": {
      "text/plain": [
       "20"
      ]
     },
     "execution_count": 33,
     "metadata": {},
     "output_type": "execute_result"
    }
   ],
   "source": [
    "mul(2,10)"
   ]
  },
  {
   "cell_type": "markdown",
   "id": "d872d7fe",
   "metadata": {},
   "source": [
    "# Annonymous or Inline or lambda function (Imp)"
   ]
  },
  {
   "cell_type": "code",
   "execution_count": 34,
   "id": "03cb94c2",
   "metadata": {},
   "outputs": [],
   "source": [
    "n = lambda a,b : a+b   #n: function; immediately after lambda a,b represents arguments and after :, returned value"
   ]
  },
  {
   "cell_type": "code",
   "execution_count": 35,
   "id": "5a5b0f26",
   "metadata": {},
   "outputs": [
    {
     "data": {
      "text/plain": [
       "9"
      ]
     },
     "execution_count": 35,
     "metadata": {},
     "output_type": "execute_result"
    }
   ],
   "source": [
    "n(4,5)"
   ]
  },
  {
   "cell_type": "code",
   "execution_count": 36,
   "id": "25fa943b",
   "metadata": {},
   "outputs": [],
   "source": [
    "def alt(a,b):\n",
    "    return a+b"
   ]
  },
  {
   "cell_type": "code",
   "execution_count": 37,
   "id": "3f14cd49",
   "metadata": {},
   "outputs": [
    {
     "data": {
      "text/plain": [
       "9"
      ]
     },
     "execution_count": 37,
     "metadata": {},
     "output_type": "execute_result"
    }
   ],
   "source": [
    "alt(4,5)"
   ]
  },
  {
   "cell_type": "code",
   "execution_count": 38,
   "id": "0d175578",
   "metadata": {},
   "outputs": [],
   "source": [
    "n1 = lambda k,i : k-i   #avoid for complex logics as it will become very clumpsy"
   ]
  },
  {
   "cell_type": "code",
   "execution_count": 39,
   "id": "f2d02a33",
   "metadata": {},
   "outputs": [
    {
     "data": {
      "text/plain": [
       "3"
      ]
     },
     "execution_count": 39,
     "metadata": {},
     "output_type": "execute_result"
    }
   ],
   "source": [
    "n1(10,7)"
   ]
  },
  {
   "cell_type": "code",
   "execution_count": 40,
   "id": "8b1d1152",
   "metadata": {},
   "outputs": [],
   "source": [
    "n2 = lambda *m : m"
   ]
  },
  {
   "cell_type": "code",
   "execution_count": 41,
   "id": "97af85f3",
   "metadata": {},
   "outputs": [
    {
     "data": {
      "text/plain": [
       "(1, 3, 32, 2)"
      ]
     },
     "execution_count": 41,
     "metadata": {},
     "output_type": "execute_result"
    }
   ],
   "source": [
    "n2(1,3,32,2)"
   ]
  },
  {
   "cell_type": "code",
   "execution_count": 42,
   "id": "7d8e4103",
   "metadata": {},
   "outputs": [
    {
     "data": {
      "text/plain": [
       "(1, 31, 3, 32, 2)"
      ]
     },
     "execution_count": 42,
     "metadata": {},
     "output_type": "execute_result"
    }
   ],
   "source": [
    "n2(1,31,3,32,2)"
   ]
  },
  {
   "cell_type": "code",
   "execution_count": 43,
   "id": "caccd910",
   "metadata": {},
   "outputs": [],
   "source": [
    "n3 = lambda **kwargs: kwargs"
   ]
  },
  {
   "cell_type": "code",
   "execution_count": 44,
   "id": "0609d30b",
   "metadata": {},
   "outputs": [
    {
     "data": {
      "text/plain": [
       "{'a': 10, 'b': 12, 'c': 10, 'd': 'aadhaar', 'e': [1, 3, 2]}"
      ]
     },
     "execution_count": 44,
     "metadata": {},
     "output_type": "execute_result"
    }
   ],
   "source": [
    "n3(a=10,b=12,c=10,d=\"aadhaar\",e=[1,3,2])"
   ]
  },
  {
   "cell_type": "markdown",
   "id": "1dbe7a92",
   "metadata": {},
   "source": [
    "# Comphrension operation"
   ]
  },
  {
   "cell_type": "code",
   "execution_count": 45,
   "id": "417ffc10",
   "metadata": {},
   "outputs": [],
   "source": [
    "t = (4,4,5,3,2,24,4,5,5,2,5,5,53,67)\n",
    "l = []\n",
    "for i in t:\n",
    "    l.append(i)"
   ]
  },
  {
   "cell_type": "code",
   "execution_count": 46,
   "id": "09924a90",
   "metadata": {},
   "outputs": [
    {
     "data": {
      "text/plain": [
       "[4, 4, 5, 3, 2, 24, 4, 5, 5, 2, 5, 5, 53, 67]"
      ]
     },
     "execution_count": 46,
     "metadata": {},
     "output_type": "execute_result"
    }
   ],
   "source": [
    "l"
   ]
  },
  {
   "cell_type": "code",
   "execution_count": 47,
   "id": "da5cc063",
   "metadata": {},
   "outputs": [
    {
     "data": {
      "text/plain": [
       "[4, 4, 5, 3, 2, 24, 4, 5, 5, 2, 5, 5, 53, 67]"
      ]
     },
     "execution_count": 47,
     "metadata": {},
     "output_type": "execute_result"
    }
   ],
   "source": [
    "[i for i in t]"
   ]
  },
  {
   "cell_type": "markdown",
   "id": "f506ece6",
   "metadata": {},
   "source": [
    "format: inside a list bracket, write for loop statement like before. Then, put the value to be returned at the beginning"
   ]
  },
  {
   "cell_type": "code",
   "execution_count": 48,
   "id": "7f9b1157",
   "metadata": {},
   "outputs": [
    {
     "data": {
      "text/plain": [
       "[16, 16, 25, 9, 4, 576, 16, 25, 25, 4, 25, 25, 2809, 4489]"
      ]
     },
     "execution_count": 48,
     "metadata": {},
     "output_type": "execute_result"
    }
   ],
   "source": [
    "[i*i for i in t]"
   ]
  },
  {
   "cell_type": "code",
   "execution_count": 49,
   "id": "1b9faaac",
   "metadata": {},
   "outputs": [
    {
     "data": {
      "text/plain": [
       "['k', 'a', 'r', 'a', 'n']"
      ]
     },
     "execution_count": 49,
     "metadata": {},
     "output_type": "execute_result"
    }
   ],
   "source": [
    "s = \"karan\"\n",
    "[i for i in s]"
   ]
  },
  {
   "cell_type": "code",
   "execution_count": 50,
   "id": "8af9455b",
   "metadata": {},
   "outputs": [
    {
     "data": {
      "text/plain": [
       "[1, 4, 9, 16, 25, 36, 49, 64, 81, 100]"
      ]
     },
     "execution_count": 50,
     "metadata": {},
     "output_type": "execute_result"
    }
   ],
   "source": [
    "[i*i for i in range(1,11)]   #Square of numbers from 1 to 10"
   ]
  },
  {
   "cell_type": "code",
   "execution_count": 51,
   "id": "05812e29",
   "metadata": {},
   "outputs": [],
   "source": [
    "l = lambda *x : [i for i in x]"
   ]
  },
  {
   "cell_type": "code",
   "execution_count": 52,
   "id": "ce4ca6b6",
   "metadata": {},
   "outputs": [
    {
     "data": {
      "text/plain": [
       "[3, 4, 21, 4, 2, 4, 2, 5]"
      ]
     },
     "execution_count": 52,
     "metadata": {},
     "output_type": "execute_result"
    }
   ],
   "source": [
    "l(3,4,21,4,2,4,2,5)"
   ]
  },
  {
   "cell_type": "code",
   "execution_count": 53,
   "id": "5cf9e233",
   "metadata": {},
   "outputs": [],
   "source": [
    "sqr = lambda *x : [i**2 for i in x]"
   ]
  },
  {
   "cell_type": "code",
   "execution_count": 54,
   "id": "be2d5318",
   "metadata": {},
   "outputs": [
    {
     "data": {
      "text/plain": [
       "[1, 9, 9, 529, 4, 4, 4, 4, 64, 4, 12769, 9803161]"
      ]
     },
     "execution_count": 54,
     "metadata": {},
     "output_type": "execute_result"
    }
   ],
   "source": [
    "sqr(1,3,3,23,2,2,2,2,8,2,113,3131)"
   ]
  },
  {
   "cell_type": "code",
   "execution_count": 55,
   "id": "ab802d52",
   "metadata": {},
   "outputs": [],
   "source": [
    "#Good learning example on dictionary\n",
    "def fnd_str_count(**kwargs):\n",
    "    count = 0\n",
    "    for v in kwargs.values():\n",
    "        if type(v) == str:\n",
    "            count += 1\n",
    "        elif type(v) == list:\n",
    "            for k in v:\n",
    "                if type(k) == str:\n",
    "                    count += 1\n",
    "    return count"
   ]
  },
  {
   "cell_type": "code",
   "execution_count": 56,
   "id": "c6b36d98",
   "metadata": {},
   "outputs": [
    {
     "data": {
      "text/plain": [
       "3"
      ]
     },
     "execution_count": 56,
     "metadata": {},
     "output_type": "execute_result"
    }
   ],
   "source": [
    "fnd_str_count(a=7,b=\"karan\",c=345,d=\"karan\",l=[2,3,4,45,\"karan\"])"
   ]
  },
  {
   "cell_type": "code",
   "execution_count": 57,
   "id": "1e40b4b1",
   "metadata": {},
   "outputs": [],
   "source": [
    "def get_list(**kwargs):\n",
    "    l0 = []\n",
    "    for u,v in kwargs.items():\n",
    "        l0.append(u)\n",
    "        l0.append(v)\n",
    "    return l0"
   ]
  },
  {
   "cell_type": "code",
   "execution_count": 58,
   "id": "bfaa9410",
   "metadata": {},
   "outputs": [
    {
     "data": {
      "text/plain": [
       "['a', 7, 'b', 'karan', 'c', 345, 'd', 'karan', 'l', [2, 3, 4, 45, 'karan']]"
      ]
     },
     "execution_count": 58,
     "metadata": {},
     "output_type": "execute_result"
    }
   ],
   "source": [
    "get_list(a=7,b=\"karan\",c=345,d=\"karan\",l=[2,3,4,45,\"karan\"])"
   ]
  },
  {
   "cell_type": "code",
   "execution_count": 59,
   "id": "24d77e5e",
   "metadata": {},
   "outputs": [],
   "source": [
    "#Good learning example on dictionary #Alternate approach\n",
    "def get_list(**kwargs):\n",
    "    return list(kwargs.values())"
   ]
  },
  {
   "cell_type": "code",
   "execution_count": 60,
   "id": "676afbe7",
   "metadata": {},
   "outputs": [
    {
     "data": {
      "text/plain": [
       "[7, 'karan', 345, 'karan', [2, 3, 4, 45, 'karan']]"
      ]
     },
     "execution_count": 60,
     "metadata": {},
     "output_type": "execute_result"
    }
   ],
   "source": [
    "get_list(a=7,b=\"karan\",c=345,d=\"karan\",l=[2,3,4,45,\"karan\"])"
   ]
  },
  {
   "cell_type": "code",
   "execution_count": 61,
   "id": "7a94853e",
   "metadata": {},
   "outputs": [],
   "source": [
    "def get_list(**kwargs):\n",
    "    return list(kwargs.items())"
   ]
  },
  {
   "cell_type": "code",
   "execution_count": 62,
   "id": "94f6b93c",
   "metadata": {},
   "outputs": [],
   "source": [
    "l1 = get_list(a=7,b=\"karan\",c=345,d=\"karan\",l=[2,3,4,45,\"karan\"])"
   ]
  },
  {
   "cell_type": "code",
   "execution_count": 63,
   "id": "354c9d34",
   "metadata": {},
   "outputs": [
    {
     "data": {
      "text/plain": [
       "5"
      ]
     },
     "execution_count": 63,
     "metadata": {},
     "output_type": "execute_result"
    }
   ],
   "source": [
    "len(l1)"
   ]
  },
  {
   "cell_type": "code",
   "execution_count": 64,
   "id": "caef5fcf",
   "metadata": {},
   "outputs": [
    {
     "data": {
      "text/plain": [
       "('a', 7)"
      ]
     },
     "execution_count": 64,
     "metadata": {},
     "output_type": "execute_result"
    }
   ],
   "source": [
    "l1[0]"
   ]
  },
  {
   "cell_type": "code",
   "execution_count": 65,
   "id": "236d258b",
   "metadata": {},
   "outputs": [
    {
     "data": {
      "text/plain": [
       "tuple"
      ]
     },
     "execution_count": 65,
     "metadata": {},
     "output_type": "execute_result"
    }
   ],
   "source": [
    "type(l1[0])"
   ]
  },
  {
   "cell_type": "code",
   "execution_count": null,
   "id": "ab9e3cf4",
   "metadata": {},
   "outputs": [],
   "source": []
  },
  {
   "cell_type": "code",
   "execution_count": null,
   "id": "a581e8ef",
   "metadata": {},
   "outputs": [],
   "source": []
  },
  {
   "cell_type": "code",
   "execution_count": null,
   "id": "ffbed2fe",
   "metadata": {},
   "outputs": [],
   "source": []
  }
 ],
 "metadata": {
  "kernelspec": {
   "display_name": "Python 3 (ipykernel)",
   "language": "python",
   "name": "python3"
  },
  "language_info": {
   "codemirror_mode": {
    "name": "ipython",
    "version": 3
   },
   "file_extension": ".py",
   "mimetype": "text/x-python",
   "name": "python",
   "nbconvert_exporter": "python",
   "pygments_lexer": "ipython3",
   "version": "3.9.7"
  }
 },
 "nbformat": 4,
 "nbformat_minor": 5
}
