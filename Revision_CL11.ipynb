{
 "cells": [
  {
   "cell_type": "code",
   "execution_count": 1,
   "id": "bdedbf38",
   "metadata": {},
   "outputs": [],
   "source": [
    "#CL9: Revision; #CL10: Exceptional Handling (trainer: Sunny)"
   ]
  },
  {
   "cell_type": "markdown",
   "id": "f01aa27a",
   "metadata": {},
   "source": [
    "# Iterable, Iterator, and Generator"
   ]
  },
  {
   "cell_type": "code",
   "execution_count": 2,
   "id": "091a2a0b",
   "metadata": {},
   "outputs": [],
   "source": [
    "l = [1,2,3,4,5]"
   ]
  },
  {
   "cell_type": "code",
   "execution_count": 3,
   "id": "7a680821",
   "metadata": {},
   "outputs": [
    {
     "name": "stdout",
     "output_type": "stream",
     "text": [
      "1\n",
      "2\n",
      "3\n",
      "4\n",
      "5\n"
     ]
    }
   ],
   "source": [
    "for i in l:\n",
    "    print(i)"
   ]
  },
  {
   "cell_type": "markdown",
   "id": "e77e86db",
   "metadata": {},
   "source": [
    "# How for loop works internally?"
   ]
  },
  {
   "cell_type": "raw",
   "id": "230b6a9e",
   "metadata": {},
   "source": [
    "By use of inbuilt function: next(l)"
   ]
  },
  {
   "cell_type": "raw",
   "id": "310270f8",
   "metadata": {},
   "source": [
    "next(l)\n",
    "---------------------------------------------------------------------------\n",
    "TypeError: 'list' object is not an iterator"
   ]
  },
  {
   "cell_type": "code",
   "execution_count": 4,
   "id": "1658c74c",
   "metadata": {},
   "outputs": [],
   "source": [
    "b = iter(l)   "
   ]
  },
  {
   "cell_type": "code",
   "execution_count": 5,
   "id": "761365e4",
   "metadata": {},
   "outputs": [
    {
     "data": {
      "text/plain": [
       "1"
      ]
     },
     "execution_count": 5,
     "metadata": {},
     "output_type": "execute_result"
    }
   ],
   "source": [
    "next(b)"
   ]
  },
  {
   "cell_type": "code",
   "execution_count": 6,
   "id": "6938099e",
   "metadata": {},
   "outputs": [
    {
     "data": {
      "text/plain": [
       "2"
      ]
     },
     "execution_count": 6,
     "metadata": {},
     "output_type": "execute_result"
    }
   ],
   "source": [
    "next(b)"
   ]
  },
  {
   "cell_type": "code",
   "execution_count": 7,
   "id": "01711e22",
   "metadata": {},
   "outputs": [
    {
     "data": {
      "text/plain": [
       "3"
      ]
     },
     "execution_count": 7,
     "metadata": {},
     "output_type": "execute_result"
    }
   ],
   "source": [
    "next(b)"
   ]
  },
  {
   "cell_type": "code",
   "execution_count": 8,
   "id": "9782f605",
   "metadata": {},
   "outputs": [
    {
     "data": {
      "text/plain": [
       "4"
      ]
     },
     "execution_count": 8,
     "metadata": {},
     "output_type": "execute_result"
    }
   ],
   "source": [
    "next(b)"
   ]
  },
  {
   "cell_type": "code",
   "execution_count": 9,
   "id": "bf20aeed",
   "metadata": {},
   "outputs": [
    {
     "data": {
      "text/plain": [
       "5"
      ]
     },
     "execution_count": 9,
     "metadata": {},
     "output_type": "execute_result"
    }
   ],
   "source": [
    "next(b)"
   ]
  },
  {
   "cell_type": "raw",
   "id": "12068e86",
   "metadata": {},
   "source": [
    "next(b)\n",
    "---------------------------------------------------------------------------\n",
    "StopIteration: "
   ]
  },
  {
   "cell_type": "code",
   "execution_count": 10,
   "id": "ccb159c8",
   "metadata": {},
   "outputs": [],
   "source": [
    "#Iterable Vs iterator\n",
    "#Only object which is iterable only those can be converted to iterators and can't extract it."
   ]
  },
  {
   "cell_type": "raw",
   "id": "012d9cba",
   "metadata": {},
   "source": [
    "next(45)\n",
    "---------------------------------------------------------------------------\n",
    "TypeError: 'int' object is not an iterator"
   ]
  },
  {
   "cell_type": "raw",
   "id": "052fbbde",
   "metadata": {},
   "source": [
    "iter(45)\n",
    "---------------------------------------------------------------------------\n",
    "TypeError: 'int' object is not iterable"
   ]
  },
  {
   "cell_type": "code",
   "execution_count": 11,
   "id": "d6dd9388",
   "metadata": {},
   "outputs": [],
   "source": [
    "#for loop\n",
    "#Step 1: if objects are iterable, it converts iterable to iterator using iter() \n",
    "#Step 2: One-by-one start extracting data using a next() function\n",
    "#Step 3: Internally for loop knows about the length so it doesn't give the error of StopIteration. It knows when to stop"
   ]
  },
  {
   "cell_type": "raw",
   "id": "536f9efc",
   "metadata": {},
   "source": [
    "for i in 352736:\n",
    "    print(i)\n",
    "    ---------------------------------------------------------------------------\n",
    "----> 1 for i in 352736:\n",
    "      2     print(i)\n",
    "\n",
    "TypeError: 'int' object is not iterable"
   ]
  },
  {
   "cell_type": "code",
   "execution_count": 12,
   "id": "10a287c9",
   "metadata": {},
   "outputs": [
    {
     "data": {
      "text/plain": [
       "[1, 2, 3, 4, 5]"
      ]
     },
     "execution_count": 12,
     "metadata": {},
     "output_type": "execute_result"
    }
   ],
   "source": [
    "[i for i in l]"
   ]
  },
  {
   "cell_type": "code",
   "execution_count": 13,
   "id": "f96ae67a",
   "metadata": {},
   "outputs": [],
   "source": [
    "#By default, list object is an iterble"
   ]
  },
  {
   "cell_type": "code",
   "execution_count": 14,
   "id": "f9e0bd6b",
   "metadata": {},
   "outputs": [
    {
     "data": {
      "text/plain": [
       "[]"
      ]
     },
     "execution_count": 14,
     "metadata": {},
     "output_type": "execute_result"
    }
   ],
   "source": [
    "[i for i in b]"
   ]
  },
  {
   "cell_type": "code",
   "execution_count": 15,
   "id": "04ce80a2",
   "metadata": {},
   "outputs": [],
   "source": [
    "s = \"karan\""
   ]
  },
  {
   "cell_type": "raw",
   "id": "9408537c",
   "metadata": {},
   "source": [
    "next(s)\n",
    "---------------------------------------------------------------------------\n",
    "TypeError: 'str' object is not an iterator"
   ]
  },
  {
   "cell_type": "code",
   "execution_count": 16,
   "id": "be3e60c0",
   "metadata": {},
   "outputs": [],
   "source": [
    "s0 = iter(s)"
   ]
  },
  {
   "cell_type": "code",
   "execution_count": 17,
   "id": "f2780b8f",
   "metadata": {},
   "outputs": [
    {
     "data": {
      "text/plain": [
       "['k', 'a', 'r', 'a', 'n']"
      ]
     },
     "execution_count": 17,
     "metadata": {},
     "output_type": "execute_result"
    }
   ],
   "source": [
    " [i for i in s0]"
   ]
  },
  {
   "cell_type": "code",
   "execution_count": 18,
   "id": "7aa6f3ea",
   "metadata": {},
   "outputs": [],
   "source": [
    "t = (2,4,4,2)"
   ]
  },
  {
   "cell_type": "raw",
   "id": "1eae2a6c",
   "metadata": {},
   "source": [
    "next(t)\n",
    "---------------------------------------------------------------------------\n",
    "TypeError: 'tuple' object is not an iterator"
   ]
  },
  {
   "cell_type": "code",
   "execution_count": 19,
   "id": "28e9a124",
   "metadata": {},
   "outputs": [],
   "source": [
    "t0 = iter(t)"
   ]
  },
  {
   "cell_type": "code",
   "execution_count": 20,
   "id": "144bba74",
   "metadata": {},
   "outputs": [
    {
     "data": {
      "text/plain": [
       "[2, 4, 4, 2]"
      ]
     },
     "execution_count": 20,
     "metadata": {},
     "output_type": "execute_result"
    }
   ],
   "source": [
    "[i for i in t0]"
   ]
  },
  {
   "cell_type": "code",
   "execution_count": 21,
   "id": "17ae0ca2",
   "metadata": {},
   "outputs": [],
   "source": [
    "# In real time, we don't use these. It is used internally within a for loop"
   ]
  },
  {
   "cell_type": "markdown",
   "id": "0bed3372",
   "metadata": {},
   "source": [
    "# Generator function"
   ]
  },
  {
   "cell_type": "code",
   "execution_count": 22,
   "id": "527faf75",
   "metadata": {},
   "outputs": [
    {
     "data": {
      "text/plain": [
       "[1, 2, 3, 4, 5, 6, 7, 8, 9]"
      ]
     },
     "execution_count": 22,
     "metadata": {},
     "output_type": "execute_result"
    }
   ],
   "source": [
    "list(range(1,10))"
   ]
  },
  {
   "cell_type": "code",
   "execution_count": 23,
   "id": "f26037d1",
   "metadata": {},
   "outputs": [],
   "source": [
    "#This function is generating a dataset for me"
   ]
  },
  {
   "cell_type": "code",
   "execution_count": 24,
   "id": "470427ca",
   "metadata": {},
   "outputs": [],
   "source": [
    "gen = lambda n: [i**2 for i in range(n)]"
   ]
  },
  {
   "cell_type": "code",
   "execution_count": 25,
   "id": "f95f6750",
   "metadata": {},
   "outputs": [
    {
     "data": {
      "text/plain": [
       "[0, 1, 4, 9, 16, 25, 36, 49, 64, 81]"
      ]
     },
     "execution_count": 25,
     "metadata": {},
     "output_type": "execute_result"
    }
   ],
   "source": [
    "gen(10)"
   ]
  },
  {
   "cell_type": "code",
   "execution_count": 26,
   "id": "9c6115f6",
   "metadata": {},
   "outputs": [],
   "source": [
    "def gen0(n):\n",
    "    x = [i**2 for i in range(n)]\n",
    "    return x"
   ]
  },
  {
   "cell_type": "code",
   "execution_count": 27,
   "id": "214ee829",
   "metadata": {},
   "outputs": [
    {
     "data": {
      "text/plain": [
       "[0, 1, 4, 9]"
      ]
     },
     "execution_count": 27,
     "metadata": {},
     "output_type": "execute_result"
    }
   ],
   "source": [
    "gen0(4)"
   ]
  },
  {
   "cell_type": "code",
   "execution_count": 28,
   "id": "9a87dbba",
   "metadata": {},
   "outputs": [
    {
     "data": {
      "text/plain": [
       "[0, 1, 2, 3]"
      ]
     },
     "execution_count": 28,
     "metadata": {},
     "output_type": "execute_result"
    }
   ],
   "source": [
    "list(range(4))"
   ]
  },
  {
   "cell_type": "markdown",
   "id": "061de906",
   "metadata": {},
   "source": [
    "Range: it will not give us an outcome until we are not looking for it. Unless we don't enclose it within a list or iterate through a for loop, it is not going to return back us a dataset. It behaves as a generator.\n",
    "\n",
    "For generators: We say, don't return me anything. Just give an object. If it is required in future, I will try to extract the data by myself just like the range function."
   ]
  },
  {
   "cell_type": "code",
   "execution_count": 29,
   "id": "01f2e7ae",
   "metadata": {},
   "outputs": [],
   "source": [
    "#Example for the above statement\n",
    "def square_fn(n):\n",
    "    x = [i**2 for i in range(n)]\n",
    "    yield x   #it is possible with a yield function (yielding but not returning)"
   ]
  },
  {
   "cell_type": "code",
   "execution_count": 30,
   "id": "1cf38a7e",
   "metadata": {},
   "outputs": [
    {
     "data": {
      "text/plain": [
       "<generator object square_fn at 0x000001D35A795200>"
      ]
     },
     "execution_count": 30,
     "metadata": {},
     "output_type": "execute_result"
    }
   ],
   "source": [
    "square_fn(5)   #range like function"
   ]
  },
  {
   "cell_type": "markdown",
   "id": "2064da2b",
   "metadata": {},
   "source": [
    "With the help of this object, we can generate the data at any point"
   ]
  },
  {
   "cell_type": "code",
   "execution_count": 31,
   "id": "74fcfe86",
   "metadata": {},
   "outputs": [
    {
     "data": {
      "text/plain": [
       "range(0, 5)"
      ]
     },
     "execution_count": 31,
     "metadata": {},
     "output_type": "execute_result"
    }
   ],
   "source": [
    "range(5)"
   ]
  },
  {
   "cell_type": "code",
   "execution_count": 32,
   "id": "1b3a111e",
   "metadata": {},
   "outputs": [
    {
     "name": "stdout",
     "output_type": "stream",
     "text": [
      "[0, 1, 4, 9, 16]\n"
     ]
    }
   ],
   "source": [
    "for i in square_fn(5):   #calling the data\n",
    "    print(i)"
   ]
  },
  {
   "cell_type": "code",
   "execution_count": 33,
   "id": "35e8e51e",
   "metadata": {},
   "outputs": [
    {
     "data": {
      "text/plain": [
       "[0, 1, 4, 9, 16]"
      ]
     },
     "execution_count": 33,
     "metadata": {},
     "output_type": "execute_result"
    }
   ],
   "source": [
    "next(square_fn(5))"
   ]
  },
  {
   "cell_type": "raw",
   "id": "33f97873",
   "metadata": {},
   "source": [
    "next(range(5))\n",
    "---------------------------------------------------------------------------\n",
    "TypeError: 'range' object is not an iterator"
   ]
  },
  {
   "cell_type": "code",
   "execution_count": 34,
   "id": "be7f29f1",
   "metadata": {},
   "outputs": [],
   "source": [
    "r = iter(range(5))"
   ]
  },
  {
   "cell_type": "code",
   "execution_count": 35,
   "id": "9b0053dc",
   "metadata": {},
   "outputs": [
    {
     "name": "stdout",
     "output_type": "stream",
     "text": [
      "0\n",
      "1\n",
      "2\n",
      "3\n",
      "4\n"
     ]
    }
   ],
   "source": [
    "for i in r:\n",
    "    print(i)"
   ]
  },
  {
   "cell_type": "code",
   "execution_count": 36,
   "id": "3a294759",
   "metadata": {},
   "outputs": [],
   "source": [
    "def genfib(n):\n",
    "    '''Generate a fibonacci series on n numbers'''\n",
    "    a = 1\n",
    "    b = 1\n",
    "    l = []\n",
    "    for i in range(n):\n",
    "        l.append(a)\n",
    "        a,b = b,a+b   #swapping\n",
    "    return l   #it will not return data until the complete list is prepped"
   ]
  },
  {
   "cell_type": "markdown",
   "id": "6a8f7f72",
   "metadata": {},
   "source": [
    "Let's say, we call genfib(100000); this will fully utilize the CPU and hang the system. Not recommended as the resource utilization will shoot up. Trying to generate and accumulate data in a long list in the buffer memory and only when the entire list is prepared, it will not give the data. Length of that particular list is very very huge. It will consume whole RAM and computation power."
   ]
  },
  {
   "cell_type": "code",
   "execution_count": 37,
   "id": "3fece2e5",
   "metadata": {},
   "outputs": [
    {
     "data": {
      "text/plain": [
       "[1, 1, 2]"
      ]
     },
     "execution_count": 37,
     "metadata": {},
     "output_type": "execute_result"
    }
   ],
   "source": [
    "genfib(3)"
   ]
  },
  {
   "cell_type": "code",
   "execution_count": 38,
   "id": "984bbf12",
   "metadata": {},
   "outputs": [
    {
     "data": {
      "text/plain": [
       "[1, 1, 2, 3, 5, 8]"
      ]
     },
     "execution_count": 38,
     "metadata": {},
     "output_type": "execute_result"
    }
   ],
   "source": [
    "genfib(6)"
   ]
  },
  {
   "cell_type": "code",
   "execution_count": 39,
   "id": "7f78eb6b",
   "metadata": {},
   "outputs": [
    {
     "data": {
      "text/plain": [
       "[1, 1, 2, 3, 5, 8, 13, 21, 34, 55]"
      ]
     },
     "execution_count": 39,
     "metadata": {},
     "output_type": "execute_result"
    }
   ],
   "source": [
    "genfib(10)"
   ]
  },
  {
   "attachments": {
    "image.png": {
     "image/png": "[encoded data removed]"
    }
   },
   "cell_type": "markdown",
   "id": "42a94b32",
   "metadata": {},
   "source": [
    "![image.png](attachment:image.png)"
   ]
  },
  {
   "cell_type": "code",
   "execution_count": 40,
   "id": "e921065b",
   "metadata": {},
   "outputs": [],
   "source": [
    "def genfib1(n):\n",
    "    '''Generate a fibonacci series on n numbers'''\n",
    "    a = 1\n",
    "    b = 1\n",
    "    for i in range(n):\n",
    "        yield a\n",
    "        a,b = b,a+b   #swapping"
   ]
  },
  {
   "cell_type": "code",
   "execution_count": 41,
   "id": "e1b70a5e",
   "metadata": {},
   "outputs": [],
   "source": [
    "g0 = genfib1(10)"
   ]
  },
  {
   "cell_type": "code",
   "execution_count": 42,
   "id": "2d56fb40",
   "metadata": {},
   "outputs": [
    {
     "name": "stdout",
     "output_type": "stream",
     "text": [
      "1\n",
      "1\n",
      "2\n",
      "3\n",
      "5\n",
      "8\n",
      "13\n",
      "21\n",
      "34\n",
      "55\n"
     ]
    }
   ],
   "source": [
    "for i in g0:\n",
    "    print(i)"
   ]
  },
  {
   "cell_type": "code",
   "execution_count": 43,
   "id": "c6b5d5c0",
   "metadata": {},
   "outputs": [],
   "source": [
    "g1 = genfib1(100000000000000000000000000)  "
   ]
  },
  {
   "cell_type": "markdown",
   "id": "e517414c",
   "metadata": {},
   "source": [
    "> Generate data and start throwing data in the console and doesn't consume too much of a memory. \n",
    "> Good for heavy computation"
   ]
  },
  {
   "cell_type": "markdown",
   "id": "12c9e4c2",
   "metadata": {},
   "source": [
    "# File operations"
   ]
  },
  {
   "cell_type": "code",
   "execution_count": 44,
   "id": "e427a700",
   "metadata": {},
   "outputs": [
    {
     "name": "stdout",
     "output_type": "stream",
     "text": [
      " Volume in drive C has no label.\n",
      " Volume Serial Number is D04E-6A27\n",
      "\n",
      " Directory of C:\\Users\\karan.manchanda\n",
      "\n",
      "06/25/2022  10:53 PM    <DIR>          .\n",
      "06/25/2022  10:53 PM    <DIR>          ..\n",
      "06/25/2022  09:05 PM    <DIR>          .atom\n",
      "06/19/2022  03:47 PM    <DIR>          .conda\n",
      "05/14/2022  03:21 PM                25 .condarc\n",
      "05/14/2022  03:21 PM    <DIR>          .continuum\n",
      "06/25/2022  04:00 PM    <DIR>          .ipynb_checkpoints\n",
      "03/12/2022  11:14 PM    <DIR>          .ipython\n",
      "05/24/2022  11:15 AM    <DIR>          .jupyter\n",
      "07/13/2021  01:56 PM    <DIR>          3D Objects\n",
      "03/12/2022  05:54 PM    <DIR>          Anaconda3\n",
      "05/21/2022  02:28 PM            10,166 Assignment_15May_KaranManchanda.ipynb\n",
      "06/14/2022  02:36 AM             5,139 CLAssignment_220521.ipynb\n",
      "07/13/2021  01:56 PM    <DIR>          Contacts\n",
      "05/22/2022  05:05 PM            17,151 ControlFlowStatement_220522.ipynb\n",
      "02/20/2022  11:39 AM    <DIR>          Documents\n",
      "06/25/2022  09:57 PM    <DIR>          Downloads\n",
      "06/12/2022  03:59 PM             3,534 ExceptionHandling_220612.ipynb\n",
      "07/13/2021  01:56 PM    <DIR>          Favorites\n",
      "06/18/2022  05:53 PM            56,835 fn()_CL13_220618.ipynb\n",
      "06/18/2022  04:45 PM                84 for_list.txt\n",
      "05/29/2022  03:07 PM            31,632 for_loop_220528.ipynb\n",
      "06/23/2022  09:29 PM           109,602 for_loop_PracticeQ_220528.ipynb\n",
      "06/05/2022  02:50 PM            21,394 functions_220529.ipynb\n",
      "06/06/2022  01:26 PM            19,441 functions_220605.ipynb\n",
      "06/25/2022  10:50 PM                34 kar.txt\n",
      "07/13/2021  01:56 PM    <DIR>          Links\n",
      "05/21/2022  06:09 PM            36,493 Lists_220521.ipynb\n",
      "06/19/2022  04:06 PM             1,264 LoggingMod_CL14_220619.ipynb\n",
      "05/22/2022  07:10 PM             7,234 Loops_220522.ipynb\n",
      "06/25/2022  10:50 PM                48 lst_file.txt\n",
      "07/13/2021  01:56 PM    <DIR>          Music\n",
      "07/13/2021  12:35 PM    <DIR>          OneDrive\n",
      "06/25/2022  03:20 PM    <DIR>          OneDrive - SoftwareONE\n",
      "06/19/2022  03:43 PM    <DIR>          PycharmProjects\n",
      "05/24/2022  09:34 PM            20,021 Revision_CL1.ipynb\n",
      "06/25/2022  10:53 PM            83,862 Revision_CL11.ipynb\n",
      "06/07/2022  12:52 PM           122,301 Revision_CL2.ipynb\n",
      "06/14/2022  12:34 PM            92,529 Revision_CL3.ipynb\n",
      "06/21/2022  08:54 PM            19,966 Revision_CL4.ipynb\n",
      "06/23/2022  03:31 AM            29,849 Revision_CL5.ipynb\n",
      "06/25/2022  12:27 AM            28,757 Revision_CL6.ipynb\n",
      "06/25/2022  04:13 AM            22,111 Revision_CL8.ipynb\n",
      "07/13/2021  01:56 PM    <DIR>          Saved Games\n",
      "07/15/2021  07:15 PM    <DIR>          Searches\n",
      "05/15/2022  05:44 PM            73,871 String_Basics_220515.ipynb\n",
      "06/25/2022  08:50 PM                17 T1.txt\n",
      "06/25/2022  10:50 PM                19 tst.kar\n",
      "06/25/2022  10:50 PM                47 tst1.txt\n",
      "06/25/2022  10:50 PM               492 tst2.txt\n",
      "06/25/2022  10:50 PM                34 tst3.txt\n",
      "05/14/2022  05:23 PM            20,814 Variables 220514.ipynb\n",
      "08/11/2021  07:21 PM    <DIR>          Videos\n",
      "05/29/2022  04:50 PM         4,022,386 while_loop_220529.ipynb\n",
      "              32 File(s)      4,857,152 bytes\n",
      "              22 Dir(s)  171,159,339,008 bytes free\n"
     ]
    }
   ],
   "source": [
    "ls"
   ]
  },
  {
   "cell_type": "code",
   "execution_count": 45,
   "id": "bb5e6aed",
   "metadata": {},
   "outputs": [],
   "source": [
    "f = open(\"kar.txt\",'w')   #create files on the fly > Note: f is the file variable"
   ]
  },
  {
   "cell_type": "code",
   "execution_count": 46,
   "id": "c649de3d",
   "metadata": {},
   "outputs": [
    {
     "name": "stdout",
     "output_type": "stream",
     "text": [
      " Volume in drive C has no label.\n",
      " Volume Serial Number is D04E-6A27\n",
      "\n",
      " Directory of C:\\Users\\karan.manchanda\n",
      "\n",
      "06/25/2022  10:53 PM    <DIR>          .\n",
      "06/25/2022  10:53 PM    <DIR>          ..\n",
      "06/25/2022  09:05 PM    <DIR>          .atom\n",
      "06/19/2022  03:47 PM    <DIR>          .conda\n",
      "05/14/2022  03:21 PM                25 .condarc\n",
      "05/14/2022  03:21 PM    <DIR>          .continuum\n",
      "06/25/2022  04:00 PM    <DIR>          .ipynb_checkpoints\n",
      "03/12/2022  11:14 PM    <DIR>          .ipython\n",
      "05/24/2022  11:15 AM    <DIR>          .jupyter\n",
      "07/13/2021  01:56 PM    <DIR>          3D Objects\n",
      "03/12/2022  05:54 PM    <DIR>          Anaconda3\n",
      "05/21/2022  02:28 PM            10,166 Assignment_15May_KaranManchanda.ipynb\n",
      "06/14/2022  02:36 AM             5,139 CLAssignment_220521.ipynb\n",
      "07/13/2021  01:56 PM    <DIR>          Contacts\n",
      "05/22/2022  05:05 PM            17,151 ControlFlowStatement_220522.ipynb\n",
      "02/20/2022  11:39 AM    <DIR>          Documents\n",
      "06/25/2022  09:57 PM    <DIR>          Downloads\n",
      "06/12/2022  03:59 PM             3,534 ExceptionHandling_220612.ipynb\n",
      "07/13/2021  01:56 PM    <DIR>          Favorites\n",
      "06/18/2022  05:53 PM            56,835 fn()_CL13_220618.ipynb\n",
      "06/18/2022  04:45 PM                84 for_list.txt\n",
      "05/29/2022  03:07 PM            31,632 for_loop_220528.ipynb\n",
      "06/23/2022  09:29 PM           109,602 for_loop_PracticeQ_220528.ipynb\n",
      "06/05/2022  02:50 PM            21,394 functions_220529.ipynb\n",
      "06/06/2022  01:26 PM            19,441 functions_220605.ipynb\n",
      "06/25/2022  10:55 PM                 0 kar.txt\n",
      "07/13/2021  01:56 PM    <DIR>          Links\n",
      "05/21/2022  06:09 PM            36,493 Lists_220521.ipynb\n",
      "06/19/2022  04:06 PM             1,264 LoggingMod_CL14_220619.ipynb\n",
      "05/22/2022  07:10 PM             7,234 Loops_220522.ipynb\n",
      "06/25/2022  10:50 PM                48 lst_file.txt\n",
      "07/13/2021  01:56 PM    <DIR>          Music\n",
      "07/13/2021  12:35 PM    <DIR>          OneDrive\n",
      "06/25/2022  03:20 PM    <DIR>          OneDrive - SoftwareONE\n",
      "06/19/2022  03:43 PM    <DIR>          PycharmProjects\n",
      "05/24/2022  09:34 PM            20,021 Revision_CL1.ipynb\n",
      "06/25/2022  10:53 PM            83,862 Revision_CL11.ipynb\n",
      "06/07/2022  12:52 PM           122,301 Revision_CL2.ipynb\n",
      "06/14/2022  12:34 PM            92,529 Revision_CL3.ipynb\n",
      "06/21/2022  08:54 PM            19,966 Revision_CL4.ipynb\n",
      "06/23/2022  03:31 AM            29,849 Revision_CL5.ipynb\n",
      "06/25/2022  12:27 AM            28,757 Revision_CL6.ipynb\n",
      "06/25/2022  04:13 AM            22,111 Revision_CL8.ipynb\n",
      "07/13/2021  01:56 PM    <DIR>          Saved Games\n",
      "07/15/2021  07:15 PM    <DIR>          Searches\n",
      "05/15/2022  05:44 PM            73,871 String_Basics_220515.ipynb\n",
      "06/25/2022  08:50 PM                17 T1.txt\n",
      "06/25/2022  10:50 PM                19 tst.kar\n",
      "06/25/2022  10:50 PM                47 tst1.txt\n",
      "06/25/2022  10:50 PM               492 tst2.txt\n",
      "06/25/2022  10:50 PM                34 tst3.txt\n",
      "05/14/2022  05:23 PM            20,814 Variables 220514.ipynb\n",
      "08/11/2021  07:21 PM    <DIR>          Videos\n",
      "05/29/2022  04:50 PM         4,022,386 while_loop_220529.ipynb\n",
      "              32 File(s)      4,857,118 bytes\n",
      "              22 Dir(s)  171,160,387,584 bytes free\n"
     ]
    }
   ],
   "source": [
    "ls"
   ]
  },
  {
   "cell_type": "code",
   "execution_count": 47,
   "id": "2725b955",
   "metadata": {},
   "outputs": [
    {
     "data": {
      "text/plain": [
       "34"
      ]
     },
     "execution_count": 47,
     "metadata": {},
     "output_type": "execute_result"
    }
   ],
   "source": [
    "f.write(\"Inserting this string to the file.\")"
   ]
  },
  {
   "cell_type": "code",
   "execution_count": 48,
   "id": "3bd1bd20",
   "metadata": {},
   "outputs": [],
   "source": [
    "f.close()"
   ]
  },
  {
   "cell_type": "code",
   "execution_count": 49,
   "id": "628809f1",
   "metadata": {},
   "outputs": [
    {
     "name": "stdout",
     "output_type": "stream",
     "text": [
      " Volume in drive C has no label.\n",
      " Volume Serial Number is D04E-6A27\n",
      "\n",
      " Directory of C:\\Users\\karan.manchanda\n",
      "\n",
      "06/25/2022  10:53 PM    <DIR>          .\n",
      "06/25/2022  10:53 PM    <DIR>          ..\n",
      "06/25/2022  09:05 PM    <DIR>          .atom\n",
      "06/19/2022  03:47 PM    <DIR>          .conda\n",
      "05/14/2022  03:21 PM                25 .condarc\n",
      "05/14/2022  03:21 PM    <DIR>          .continuum\n",
      "06/25/2022  04:00 PM    <DIR>          .ipynb_checkpoints\n",
      "03/12/2022  11:14 PM    <DIR>          .ipython\n",
      "05/24/2022  11:15 AM    <DIR>          .jupyter\n",
      "07/13/2021  01:56 PM    <DIR>          3D Objects\n",
      "03/12/2022  05:54 PM    <DIR>          Anaconda3\n",
      "05/21/2022  02:28 PM            10,166 Assignment_15May_KaranManchanda.ipynb\n",
      "06/14/2022  02:36 AM             5,139 CLAssignment_220521.ipynb\n",
      "07/13/2021  01:56 PM    <DIR>          Contacts\n",
      "05/22/2022  05:05 PM            17,151 ControlFlowStatement_220522.ipynb\n",
      "02/20/2022  11:39 AM    <DIR>          Documents\n",
      "06/25/2022  09:57 PM    <DIR>          Downloads\n",
      "06/12/2022  03:59 PM             3,534 ExceptionHandling_220612.ipynb\n",
      "07/13/2021  01:56 PM    <DIR>          Favorites\n",
      "06/18/2022  05:53 PM            56,835 fn()_CL13_220618.ipynb\n",
      "06/18/2022  04:45 PM                84 for_list.txt\n",
      "05/29/2022  03:07 PM            31,632 for_loop_220528.ipynb\n",
      "06/23/2022  09:29 PM           109,602 for_loop_PracticeQ_220528.ipynb\n",
      "06/05/2022  02:50 PM            21,394 functions_220529.ipynb\n",
      "06/06/2022  01:26 PM            19,441 functions_220605.ipynb\n",
      "06/25/2022  10:55 PM                34 kar.txt\n",
      "07/13/2021  01:56 PM    <DIR>          Links\n",
      "05/21/2022  06:09 PM            36,493 Lists_220521.ipynb\n",
      "06/19/2022  04:06 PM             1,264 LoggingMod_CL14_220619.ipynb\n",
      "05/22/2022  07:10 PM             7,234 Loops_220522.ipynb\n",
      "06/25/2022  10:50 PM                48 lst_file.txt\n",
      "07/13/2021  01:56 PM    <DIR>          Music\n",
      "07/13/2021  12:35 PM    <DIR>          OneDrive\n",
      "06/25/2022  03:20 PM    <DIR>          OneDrive - SoftwareONE\n",
      "06/19/2022  03:43 PM    <DIR>          PycharmProjects\n",
      "05/24/2022  09:34 PM            20,021 Revision_CL1.ipynb\n",
      "06/25/2022  10:53 PM            83,862 Revision_CL11.ipynb\n",
      "06/07/2022  12:52 PM           122,301 Revision_CL2.ipynb\n",
      "06/14/2022  12:34 PM            92,529 Revision_CL3.ipynb\n",
      "06/21/2022  08:54 PM            19,966 Revision_CL4.ipynb\n",
      "06/23/2022  03:31 AM            29,849 Revision_CL5.ipynb\n",
      "06/25/2022  12:27 AM            28,757 Revision_CL6.ipynb\n",
      "06/25/2022  04:13 AM            22,111 Revision_CL8.ipynb\n",
      "07/13/2021  01:56 PM    <DIR>          Saved Games\n",
      "07/15/2021  07:15 PM    <DIR>          Searches\n",
      "05/15/2022  05:44 PM            73,871 String_Basics_220515.ipynb\n",
      "06/25/2022  08:50 PM                17 T1.txt\n",
      "06/25/2022  10:50 PM                19 tst.kar\n",
      "06/25/2022  10:50 PM                47 tst1.txt\n",
      "06/25/2022  10:50 PM               492 tst2.txt\n",
      "06/25/2022  10:50 PM                34 tst3.txt\n",
      "05/14/2022  05:23 PM            20,814 Variables 220514.ipynb\n",
      "08/11/2021  07:21 PM    <DIR>          Videos\n",
      "05/29/2022  04:50 PM         4,022,386 while_loop_220529.ipynb\n",
      "              32 File(s)      4,857,152 bytes\n",
      "              22 Dir(s)  171,160,387,584 bytes free\n"
     ]
    }
   ],
   "source": [
    "ls"
   ]
  },
  {
   "cell_type": "code",
   "execution_count": 50,
   "id": "a4649255",
   "metadata": {},
   "outputs": [],
   "source": [
    "f1 = open(\"tst1.txt\",'w')"
   ]
  },
  {
   "cell_type": "code",
   "execution_count": 51,
   "id": "bec16ebd",
   "metadata": {},
   "outputs": [
    {
     "data": {
      "text/plain": [
       "47"
      ]
     },
     "execution_count": 51,
     "metadata": {},
     "output_type": "execute_result"
    }
   ],
   "source": [
    "f1.write(\"Random writing inside this file. Is it updated?\")"
   ]
  },
  {
   "cell_type": "code",
   "execution_count": 52,
   "id": "e3c56060",
   "metadata": {},
   "outputs": [],
   "source": [
    "f1.close()"
   ]
  },
  {
   "cell_type": "code",
   "execution_count": 53,
   "id": "17888e4e",
   "metadata": {},
   "outputs": [],
   "source": [
    "l = [1,3,3,2,1,32,2,3,2,22,2,2,2,22,2]"
   ]
  },
  {
   "cell_type": "code",
   "execution_count": 54,
   "id": "cecf11c4",
   "metadata": {},
   "outputs": [],
   "source": [
    "#Storing the list data within a file\n",
    "f2 = open(\"lst_file.txt\",'w')"
   ]
  },
  {
   "cell_type": "code",
   "execution_count": 55,
   "id": "c5b82791",
   "metadata": {},
   "outputs": [
    {
     "data": {
      "text/plain": [
       "48"
      ]
     },
     "execution_count": 55,
     "metadata": {},
     "output_type": "execute_result"
    }
   ],
   "source": [
    "f2.write(str(l))   #only accept str as a input"
   ]
  },
  {
   "cell_type": "code",
   "execution_count": 56,
   "id": "46787c24",
   "metadata": {},
   "outputs": [],
   "source": [
    "f2.close()"
   ]
  },
  {
   "cell_type": "code",
   "execution_count": 57,
   "id": "48245a83",
   "metadata": {},
   "outputs": [],
   "source": [
    "f3 = open(\"tst.kar\",\"w\")\n",
    "f3.write(\"Test test 1234 7890\")\n",
    "f3.close()"
   ]
  },
  {
   "cell_type": "code",
   "execution_count": 58,
   "id": "00772508",
   "metadata": {},
   "outputs": [],
   "source": [
    "#Different way of writing to a file"
   ]
  },
  {
   "cell_type": "code",
   "execution_count": 59,
   "id": "c2032c99",
   "metadata": {},
   "outputs": [
    {
     "name": "stdout",
     "output_type": "stream",
     "text": [
      "Overwriting tst2.txt\n"
     ]
    }
   ],
   "source": [
    "%%writefile tst2.txt\n",
    "this is my writing test way differently\n",
    "this is my writing test way differently\n",
    "this is my writing test way differently\n",
    "this is my writing test way differently\n",
    "this is my writing test way differently\n",
    "this is my writing test way differently\n",
    "this is my writing test way differently\n",
    "this is my writing test way differently\n",
    "this is my writing test way differently\n",
    "this is my writing test way differently\n",
    "this is my writing test way differently\n",
    "this is my writing test way differently"
   ]
  },
  {
   "cell_type": "code",
   "execution_count": 60,
   "id": "1b1dff5a",
   "metadata": {},
   "outputs": [],
   "source": [
    "f = open(\"tst2.txt\")"
   ]
  },
  {
   "cell_type": "code",
   "execution_count": 61,
   "id": "b1211eb4",
   "metadata": {},
   "outputs": [
    {
     "data": {
      "text/plain": [
       "'this is my writing test way differently\\nthis is my writing test way differently\\nthis is my writing test way differently\\nthis is my writing test way differently\\nthis is my writing test way differently\\nthis is my writing test way differently\\nthis is my writing test way differently\\nthis is my writing test way differently\\nthis is my writing test way differently\\nthis is my writing test way differently\\nthis is my writing test way differently\\nthis is my writing test way differently\\n'"
      ]
     },
     "execution_count": 61,
     "metadata": {},
     "output_type": "execute_result"
    }
   ],
   "source": [
    "f.read()   #\\n denotes a new line"
   ]
  },
  {
   "cell_type": "code",
   "execution_count": 62,
   "id": "7acafdc7",
   "metadata": {},
   "outputs": [
    {
     "data": {
      "text/plain": [
       "''"
      ]
     },
     "execution_count": 62,
     "metadata": {},
     "output_type": "execute_result"
    }
   ],
   "source": [
    "f.read()   #blank as the pointer is already at the end due to the above executed code"
   ]
  },
  {
   "cell_type": "code",
   "execution_count": 63,
   "id": "d91804b1",
   "metadata": {},
   "outputs": [
    {
     "data": {
      "text/plain": [
       "0"
      ]
     },
     "execution_count": 63,
     "metadata": {},
     "output_type": "execute_result"
    }
   ],
   "source": [
    "#Condition: need to read again or move the pointer\n",
    "f.seek(0)   #cursor at 0th index"
   ]
  },
  {
   "cell_type": "code",
   "execution_count": 64,
   "id": "8426025b",
   "metadata": {},
   "outputs": [
    {
     "data": {
      "text/plain": [
       "'this is my writing test way differently\\nthis is my writing test way differently\\nthis is my writing test way differently\\nthis is my writing test way differently\\nthis is my writing test way differently\\nthis is my writing test way differently\\nthis is my writing test way differently\\nthis is my writing test way differently\\nthis is my writing test way differently\\nthis is my writing test way differently\\nthis is my writing test way differently\\nthis is my writing test way differently\\n'"
      ]
     },
     "execution_count": 64,
     "metadata": {},
     "output_type": "execute_result"
    }
   ],
   "source": [
    "f.read()"
   ]
  },
  {
   "cell_type": "code",
   "execution_count": 65,
   "id": "1dd98ae1",
   "metadata": {},
   "outputs": [
    {
     "data": {
      "text/plain": [
       "''"
      ]
     },
     "execution_count": 65,
     "metadata": {},
     "output_type": "execute_result"
    }
   ],
   "source": [
    "f.read()"
   ]
  },
  {
   "cell_type": "code",
   "execution_count": 66,
   "id": "fb83eb22",
   "metadata": {},
   "outputs": [
    {
     "data": {
      "text/plain": [
       "7"
      ]
     },
     "execution_count": 66,
     "metadata": {},
     "output_type": "execute_result"
    }
   ],
   "source": [
    "f.seek(7)"
   ]
  },
  {
   "cell_type": "code",
   "execution_count": 67,
   "id": "3ad32ba3",
   "metadata": {},
   "outputs": [
    {
     "data": {
      "text/plain": [
       "' my writing test way differently\\nthis is my writing test way differently\\nthis is my writing test way differently\\nthis is my writing test way differently\\nthis is my writing test way differently\\nthis is my writing test way differently\\nthis is my writing test way differently\\nthis is my writing test way differently\\nthis is my writing test way differently\\nthis is my writing test way differently\\nthis is my writing test way differently\\nthis is my writing test way differently\\n'"
      ]
     },
     "execution_count": 67,
     "metadata": {},
     "output_type": "execute_result"
    }
   ],
   "source": [
    "f.read()"
   ]
  },
  {
   "cell_type": "code",
   "execution_count": 68,
   "id": "3aee78eb",
   "metadata": {},
   "outputs": [
    {
     "data": {
      "text/plain": [
       "50"
      ]
     },
     "execution_count": 68,
     "metadata": {},
     "output_type": "execute_result"
    }
   ],
   "source": [
    "f.seek(50)"
   ]
  },
  {
   "cell_type": "code",
   "execution_count": 69,
   "id": "ee31ee1c",
   "metadata": {},
   "outputs": [
    {
     "data": {
      "text/plain": [
       "'y writing test way differently\\nthis is my writing test way differently\\nthis is my writing test way differently\\nthis is my writing test way differently\\nthis is my writing test way differently\\nthis is my writing test way differently\\nthis is my writing test way differently\\nthis is my writing test way differently\\nthis is my writing test way differently\\nthis is my writing test way differently\\nthis is my writing test way differently\\n'"
      ]
     },
     "execution_count": 69,
     "metadata": {},
     "output_type": "execute_result"
    }
   ],
   "source": [
    "f.read()"
   ]
  },
  {
   "cell_type": "code",
   "execution_count": 70,
   "id": "8e2ef92f",
   "metadata": {},
   "outputs": [
    {
     "data": {
      "text/plain": [
       "200"
      ]
     },
     "execution_count": 70,
     "metadata": {},
     "output_type": "execute_result"
    }
   ],
   "source": [
    "f.seek(200)"
   ]
  },
  {
   "cell_type": "code",
   "execution_count": 71,
   "id": "0489e977",
   "metadata": {},
   "outputs": [
    {
     "data": {
      "text/plain": [
       "'tly\\nthis is my writing test way differently\\nthis is my writing test way differently\\nthis is my writing test way differently\\nthis is my writing test way differently\\nthis is my writing test way differently\\nthis is my writing test way differently\\nthis is my writing test way differently\\n'"
      ]
     },
     "execution_count": 71,
     "metadata": {},
     "output_type": "execute_result"
    }
   ],
   "source": [
    "f.read()"
   ]
  },
  {
   "cell_type": "code",
   "execution_count": 72,
   "id": "7136ce52",
   "metadata": {},
   "outputs": [
    {
     "data": {
      "text/plain": [
       "492"
      ]
     },
     "execution_count": 72,
     "metadata": {},
     "output_type": "execute_result"
    }
   ],
   "source": [
    "f.tell()"
   ]
  },
  {
   "cell_type": "code",
   "execution_count": 73,
   "id": "598119d6",
   "metadata": {},
   "outputs": [
    {
     "data": {
      "text/plain": [
       "''"
      ]
     },
     "execution_count": 73,
     "metadata": {},
     "output_type": "execute_result"
    }
   ],
   "source": [
    "f.read()"
   ]
  },
  {
   "cell_type": "code",
   "execution_count": 74,
   "id": "64544951",
   "metadata": {},
   "outputs": [
    {
     "data": {
      "text/plain": [
       "50"
      ]
     },
     "execution_count": 74,
     "metadata": {},
     "output_type": "execute_result"
    }
   ],
   "source": [
    "f.seek(50)"
   ]
  },
  {
   "cell_type": "code",
   "execution_count": 75,
   "id": "139bf71f",
   "metadata": {},
   "outputs": [
    {
     "data": {
      "text/plain": [
       "50"
      ]
     },
     "execution_count": 75,
     "metadata": {},
     "output_type": "execute_result"
    }
   ],
   "source": [
    "f.tell()"
   ]
  },
  {
   "cell_type": "code",
   "execution_count": 76,
   "id": "297354c1",
   "metadata": {},
   "outputs": [
    {
     "data": {
      "text/plain": [
       "'y writing test way differently\\nthis is my writing test way differently\\nthis is my writing test way differently\\nthis is my writing test way differently\\nthis is my writing test way differently\\nthis is my writing test way differently\\nthis is my writing test way differently\\nthis is my writing test way differently\\nthis is my writing test way differently\\nthis is my writing test way differently\\nthis is my writing test way differently\\n'"
      ]
     },
     "execution_count": 76,
     "metadata": {},
     "output_type": "execute_result"
    }
   ],
   "source": [
    "f.read()"
   ]
  },
  {
   "cell_type": "code",
   "execution_count": 77,
   "id": "06081d8d",
   "metadata": {},
   "outputs": [
    {
     "data": {
      "text/plain": [
       "0"
      ]
     },
     "execution_count": 77,
     "metadata": {},
     "output_type": "execute_result"
    }
   ],
   "source": [
    "f.seek(0)"
   ]
  },
  {
   "cell_type": "code",
   "execution_count": 78,
   "id": "85337357",
   "metadata": {},
   "outputs": [
    {
     "data": {
      "text/plain": [
       "0"
      ]
     },
     "execution_count": 78,
     "metadata": {},
     "output_type": "execute_result"
    }
   ],
   "source": [
    "f.tell()"
   ]
  },
  {
   "cell_type": "code",
   "execution_count": 79,
   "id": "bc235077",
   "metadata": {},
   "outputs": [
    {
     "data": {
      "text/plain": [
       "'this is my writ'"
      ]
     },
     "execution_count": 79,
     "metadata": {},
     "output_type": "execute_result"
    }
   ],
   "source": [
    "f.read(15)   #from current location till the next 15 places"
   ]
  },
  {
   "cell_type": "code",
   "execution_count": 80,
   "id": "469964d5",
   "metadata": {},
   "outputs": [
    {
     "data": {
      "text/plain": [
       "15"
      ]
     },
     "execution_count": 80,
     "metadata": {},
     "output_type": "execute_result"
    }
   ],
   "source": [
    "f.tell()"
   ]
  },
  {
   "cell_type": "code",
   "execution_count": 81,
   "id": "40bd5728",
   "metadata": {},
   "outputs": [
    {
     "data": {
      "text/plain": [
       "'ing test way differently\\nthis is my writing test w'"
      ]
     },
     "execution_count": 81,
     "metadata": {},
     "output_type": "execute_result"
    }
   ],
   "source": [
    "f.read(50)"
   ]
  },
  {
   "cell_type": "code",
   "execution_count": 82,
   "id": "3c860b6f",
   "metadata": {},
   "outputs": [
    {
     "data": {
      "text/plain": [
       "66"
      ]
     },
     "execution_count": 82,
     "metadata": {},
     "output_type": "execute_result"
    }
   ],
   "source": [
    "f.tell()"
   ]
  },
  {
   "cell_type": "code",
   "execution_count": 83,
   "id": "099dc0f5",
   "metadata": {},
   "outputs": [],
   "source": [
    "f4 = open(\"tst2.txt\")"
   ]
  },
  {
   "cell_type": "code",
   "execution_count": 84,
   "id": "daf36f0b",
   "metadata": {},
   "outputs": [
    {
     "data": {
      "text/plain": [
       "'this is my writing test way differently\\nthis is my writing test way differently\\nthis is my writing test way differently\\nthis is my writing test way differently\\nthis is my writing test way differently\\nthis is my writing test way differently\\nthis is my writing test way differently\\nthis is my writing test way differently\\nthis is my writing test way differently\\nthis is my writing test way differently\\nthis is my writing test way differently\\nthis is my writing test way differently\\n'"
      ]
     },
     "execution_count": 84,
     "metadata": {},
     "output_type": "execute_result"
    }
   ],
   "source": [
    "f4.read()"
   ]
  },
  {
   "cell_type": "code",
   "execution_count": 85,
   "id": "aabdc233",
   "metadata": {},
   "outputs": [
    {
     "data": {
      "text/plain": [
       "0"
      ]
     },
     "execution_count": 85,
     "metadata": {},
     "output_type": "execute_result"
    }
   ],
   "source": [
    "f4.seek(0)"
   ]
  },
  {
   "cell_type": "code",
   "execution_count": 86,
   "id": "be1e23aa",
   "metadata": {},
   "outputs": [
    {
     "data": {
      "text/plain": [
       "'this is my writing test way differently\\n'"
      ]
     },
     "execution_count": 86,
     "metadata": {},
     "output_type": "execute_result"
    }
   ],
   "source": [
    "f4.readline()"
   ]
  },
  {
   "cell_type": "code",
   "execution_count": 87,
   "id": "8efb42a1",
   "metadata": {},
   "outputs": [
    {
     "data": {
      "text/plain": [
       "['this is my writing test way differently\\n',\n",
       " 'this is my writing test way differently\\n',\n",
       " 'this is my writing test way differently\\n',\n",
       " 'this is my writing test way differently\\n',\n",
       " 'this is my writing test way differently\\n',\n",
       " 'this is my writing test way differently\\n',\n",
       " 'this is my writing test way differently\\n',\n",
       " 'this is my writing test way differently\\n',\n",
       " 'this is my writing test way differently\\n',\n",
       " 'this is my writing test way differently\\n',\n",
       " 'this is my writing test way differently\\n']"
      ]
     },
     "execution_count": 87,
     "metadata": {},
     "output_type": "execute_result"
    }
   ],
   "source": [
    "f4.readlines()   #returns as a list"
   ]
  },
  {
   "cell_type": "code",
   "execution_count": 88,
   "id": "fdf8b32b",
   "metadata": {},
   "outputs": [
    {
     "data": {
      "text/plain": [
       "5"
      ]
     },
     "execution_count": 88,
     "metadata": {},
     "output_type": "execute_result"
    }
   ],
   "source": [
    "f4.fileno()"
   ]
  },
  {
   "cell_type": "code",
   "execution_count": 89,
   "id": "ad5334c4",
   "metadata": {},
   "outputs": [],
   "source": [
    "f5 = open(\"tst3.txt\",'w')"
   ]
  },
  {
   "cell_type": "code",
   "execution_count": 90,
   "id": "9df5b7aa",
   "metadata": {},
   "outputs": [
    {
     "data": {
      "text/plain": [
       "492"
      ]
     },
     "execution_count": 90,
     "metadata": {},
     "output_type": "execute_result"
    }
   ],
   "source": [
    "f5.write(\"\"\"'this is my writing test way differently\\n',\n",
    " 'this is my writing test way differently\\n',\n",
    " 'this is my writing test way differently\\n',\n",
    " 'this is my writing test way differently\\n',\n",
    " 'this is my writing test way differently\\n',\n",
    " 'this is my writing test way differently\\n',\n",
    " 'this is my writing test way differently\\n',\n",
    " 'this is my writing test way differently\\n',\n",
    " 'this is my writing test way differently\\n',\n",
    " 'this is my writing test way differently\\n',\n",
    " 'this is my writing test way differently\\n'\"\"\")"
   ]
  },
  {
   "cell_type": "code",
   "execution_count": 91,
   "id": "a5c0d3b0",
   "metadata": {},
   "outputs": [],
   "source": [
    "f5.close()"
   ]
  },
  {
   "cell_type": "code",
   "execution_count": 92,
   "id": "eed1ccfc",
   "metadata": {},
   "outputs": [],
   "source": [
    "f5 = open(\"tst3.txt\",'w')"
   ]
  },
  {
   "cell_type": "code",
   "execution_count": 93,
   "id": "40250901",
   "metadata": {},
   "outputs": [
    {
     "data": {
      "text/plain": [
       "4"
      ]
     },
     "execution_count": 93,
     "metadata": {},
     "output_type": "execute_result"
    }
   ],
   "source": [
    "f5.write(\"Test\")   #write mode overwrites the file from start on calling again"
   ]
  },
  {
   "cell_type": "code",
   "execution_count": 94,
   "id": "1da18acf",
   "metadata": {},
   "outputs": [],
   "source": [
    "f5.close()"
   ]
  },
  {
   "cell_type": "code",
   "execution_count": 95,
   "id": "abc1db52",
   "metadata": {},
   "outputs": [],
   "source": [
    "#What if we want to append?"
   ]
  },
  {
   "cell_type": "code",
   "execution_count": 96,
   "id": "116a3ad8",
   "metadata": {},
   "outputs": [],
   "source": [
    "f6 = open('tst3.txt','a')"
   ]
  },
  {
   "cell_type": "code",
   "execution_count": 97,
   "id": "5024c71a",
   "metadata": {},
   "outputs": [
    {
     "data": {
      "text/plain": [
       "30"
      ]
     },
     "execution_count": 97,
     "metadata": {},
     "output_type": "execute_result"
    }
   ],
   "source": [
    "f6.write(\"It is actually being appended?\")"
   ]
  },
  {
   "cell_type": "code",
   "execution_count": 98,
   "id": "bc58974a",
   "metadata": {},
   "outputs": [],
   "source": [
    "f6.close()"
   ]
  },
  {
   "cell_type": "code",
   "execution_count": 99,
   "id": "4be6fe35",
   "metadata": {},
   "outputs": [],
   "source": [
    "f0 = open(\"C:/Users/karan.manchanda/Downloads/chck0.txt\",'w')"
   ]
  },
  {
   "cell_type": "code",
   "execution_count": 100,
   "id": "721e080f",
   "metadata": {},
   "outputs": [],
   "source": [
    "f0.close()"
   ]
  },
  {
   "cell_type": "markdown",
   "id": "82230e12",
   "metadata": {},
   "source": [
    "# Difference between modes: r+; w+; a+"
   ]
  },
  {
   "cell_type": "raw",
   "id": "42abe8ca",
   "metadata": {},
   "source": [
    "r+: opens up a file in both reading and writing\n",
    "w+: same as r+. Differnce: w+ always tries to check if there is no existing file, it will create file while r+ gives an error\n",
    "a+: append and create file if not available"
   ]
  },
  {
   "cell_type": "code",
   "execution_count": 101,
   "id": "d7c5329d",
   "metadata": {},
   "outputs": [
    {
     "data": {
      "text/plain": [
       "'tst2.txt'"
      ]
     },
     "execution_count": 101,
     "metadata": {},
     "output_type": "execute_result"
    }
   ],
   "source": [
    "f.name"
   ]
  },
  {
   "cell_type": "code",
   "execution_count": 102,
   "id": "02d459f5",
   "metadata": {},
   "outputs": [
    {
     "data": {
      "text/plain": [
       "False"
      ]
     },
     "execution_count": 102,
     "metadata": {},
     "output_type": "execute_result"
    }
   ],
   "source": [
    "f.closed"
   ]
  },
  {
   "cell_type": "code",
   "execution_count": 103,
   "id": "6e5371b2",
   "metadata": {},
   "outputs": [
    {
     "data": {
      "text/plain": [
       "'r'"
      ]
     },
     "execution_count": 103,
     "metadata": {},
     "output_type": "execute_result"
    }
   ],
   "source": [
    "f.mode"
   ]
  },
  {
   "cell_type": "code",
   "execution_count": 104,
   "id": "9b4548a8",
   "metadata": {},
   "outputs": [],
   "source": [
    "f.close()"
   ]
  },
  {
   "cell_type": "code",
   "execution_count": 105,
   "id": "b3f24a04",
   "metadata": {},
   "outputs": [
    {
     "data": {
      "text/plain": [
       "'tst2.txt'"
      ]
     },
     "execution_count": 105,
     "metadata": {},
     "output_type": "execute_result"
    }
   ],
   "source": [
    "f.name"
   ]
  },
  {
   "cell_type": "code",
   "execution_count": 106,
   "id": "a8e9401d",
   "metadata": {},
   "outputs": [
    {
     "data": {
      "text/plain": [
       "True"
      ]
     },
     "execution_count": 106,
     "metadata": {},
     "output_type": "execute_result"
    }
   ],
   "source": [
    "f.closed"
   ]
  },
  {
   "cell_type": "code",
   "execution_count": 107,
   "id": "7564aeec",
   "metadata": {},
   "outputs": [
    {
     "data": {
      "text/plain": [
       "'r'"
      ]
     },
     "execution_count": 107,
     "metadata": {},
     "output_type": "execute_result"
    }
   ],
   "source": [
    "f.mode"
   ]
  },
  {
   "cell_type": "code",
   "execution_count": 108,
   "id": "3ddc63e9",
   "metadata": {},
   "outputs": [],
   "source": [
    "f = open(\"tst2.txt\",'a')"
   ]
  },
  {
   "cell_type": "code",
   "execution_count": 109,
   "id": "8a1544f8",
   "metadata": {},
   "outputs": [
    {
     "data": {
      "text/plain": [
       "'a'"
      ]
     },
     "execution_count": 109,
     "metadata": {},
     "output_type": "execute_result"
    }
   ],
   "source": [
    "f.mode"
   ]
  },
  {
   "cell_type": "code",
   "execution_count": 110,
   "id": "29382ccd",
   "metadata": {},
   "outputs": [],
   "source": [
    "f.close()"
   ]
  },
  {
   "cell_type": "code",
   "execution_count": 111,
   "id": "a31fb00e",
   "metadata": {},
   "outputs": [
    {
     "data": {
      "text/plain": [
       "'a'"
      ]
     },
     "execution_count": 111,
     "metadata": {},
     "output_type": "execute_result"
    }
   ],
   "source": [
    "f.mode"
   ]
  },
  {
   "cell_type": "markdown",
   "id": "abb8935a",
   "metadata": {},
   "source": [
    "# functions: map, reduce, and filter"
   ]
  },
  {
   "cell_type": "markdown",
   "id": "a439de24",
   "metadata": {},
   "source": [
    ">>> map"
   ]
  },
  {
   "cell_type": "code",
   "execution_count": 112,
   "id": "dc69b6b6",
   "metadata": {},
   "outputs": [],
   "source": [
    "l = [2,3,4,5,5,6]"
   ]
  },
  {
   "cell_type": "code",
   "execution_count": 113,
   "id": "ab07d90a",
   "metadata": {},
   "outputs": [],
   "source": [
    "#return a list of square of all the numbers \n",
    "l1 = [i**2 for i in l]"
   ]
  },
  {
   "cell_type": "code",
   "execution_count": 114,
   "id": "b6c9bfac",
   "metadata": {},
   "outputs": [
    {
     "data": {
      "text/plain": [
       "[4, 9, 16, 25, 25, 36]"
      ]
     },
     "execution_count": 114,
     "metadata": {},
     "output_type": "execute_result"
    }
   ],
   "source": [
    "l1"
   ]
  },
  {
   "cell_type": "code",
   "execution_count": 115,
   "id": "133cd0b7",
   "metadata": {},
   "outputs": [],
   "source": [
    "def lst_sqr0(n):\n",
    "    return n**2"
   ]
  },
  {
   "cell_type": "code",
   "execution_count": 116,
   "id": "7aee65e2",
   "metadata": {},
   "outputs": [
    {
     "data": {
      "text/plain": [
       "<map at 0x1d35b7cda30>"
      ]
     },
     "execution_count": 116,
     "metadata": {},
     "output_type": "execute_result"
    }
   ],
   "source": [
    "map(lst_sqr0,l)   #it gives a generator object of a map"
   ]
  },
  {
   "cell_type": "code",
   "execution_count": 117,
   "id": "c5092deb",
   "metadata": {},
   "outputs": [
    {
     "data": {
      "text/plain": [
       "[4, 9, 16, 25, 25, 36]"
      ]
     },
     "execution_count": 117,
     "metadata": {},
     "output_type": "execute_result"
    }
   ],
   "source": [
    "list(map(lst_sqr0,l))"
   ]
  },
  {
   "cell_type": "code",
   "execution_count": 118,
   "id": "38694a9e",
   "metadata": {},
   "outputs": [
    {
     "data": {
      "text/plain": [
       "<map at 0x1d35b7d4040>"
      ]
     },
     "execution_count": 118,
     "metadata": {},
     "output_type": "execute_result"
    }
   ],
   "source": [
    "map(lambda x : x**2, l)"
   ]
  },
  {
   "cell_type": "code",
   "execution_count": 119,
   "id": "ddc2ec99",
   "metadata": {},
   "outputs": [
    {
     "data": {
      "text/plain": [
       "[4, 9, 16, 25, 25, 36]"
      ]
     },
     "execution_count": 119,
     "metadata": {},
     "output_type": "execute_result"
    }
   ],
   "source": [
    "list(map(lambda x : x**2, l))"
   ]
  },
  {
   "cell_type": "code",
   "execution_count": 120,
   "id": "ad94ac0e",
   "metadata": {},
   "outputs": [
    {
     "data": {
      "text/plain": [
       "[2, 3, 4, 5, 5, 6]"
      ]
     },
     "execution_count": 120,
     "metadata": {},
     "output_type": "execute_result"
    }
   ],
   "source": [
    "l"
   ]
  },
  {
   "cell_type": "code",
   "execution_count": 121,
   "id": "8a15aba9",
   "metadata": {},
   "outputs": [
    {
     "data": {
      "text/plain": [
       "<map at 0x1d35b7d42b0>"
      ]
     },
     "execution_count": 121,
     "metadata": {},
     "output_type": "execute_result"
    }
   ],
   "source": [
    "map(lambda x: str(x),l)"
   ]
  },
  {
   "cell_type": "code",
   "execution_count": 122,
   "id": "16f10baa",
   "metadata": {},
   "outputs": [
    {
     "data": {
      "text/plain": [
       "['2', '3', '4', '5', '5', '6']"
      ]
     },
     "execution_count": 122,
     "metadata": {},
     "output_type": "execute_result"
    }
   ],
   "source": [
    "list(map(lambda x: str(x),l))"
   ]
  },
  {
   "cell_type": "code",
   "execution_count": 123,
   "id": "df89af06",
   "metadata": {},
   "outputs": [],
   "source": [
    "def str_c(n):\n",
    "    return str(n)"
   ]
  },
  {
   "cell_type": "code",
   "execution_count": 124,
   "id": "36a62896",
   "metadata": {},
   "outputs": [
    {
     "data": {
      "text/plain": [
       "['2', '3', '4', '5', '5', '6']"
      ]
     },
     "execution_count": 124,
     "metadata": {},
     "output_type": "execute_result"
    }
   ],
   "source": [
    "list(map(str_c,l))   #external function"
   ]
  },
  {
   "cell_type": "code",
   "execution_count": 125,
   "id": "413229f6",
   "metadata": {},
   "outputs": [
    {
     "data": {
      "text/plain": [
       "['2', '3', '4', '5', '5', '6']"
      ]
     },
     "execution_count": 125,
     "metadata": {},
     "output_type": "execute_result"
    }
   ],
   "source": [
    "list(map(str,l))   #inbuilt function"
   ]
  },
  {
   "cell_type": "markdown",
   "id": "dbfb6e9a",
   "metadata": {},
   "source": [
    ">> reduce"
   ]
  },
  {
   "cell_type": "code",
   "execution_count": 126,
   "id": "1c561616",
   "metadata": {},
   "outputs": [],
   "source": [
    "from functools import reduce"
   ]
  },
  {
   "cell_type": "code",
   "execution_count": 127,
   "id": "8b19b39d",
   "metadata": {},
   "outputs": [],
   "source": [
    "l = [3,4,5,6,7,8,9]"
   ]
  },
  {
   "cell_type": "code",
   "execution_count": 128,
   "id": "513b9a6f",
   "metadata": {},
   "outputs": [
    {
     "data": {
      "text/plain": [
       "42"
      ]
     },
     "execution_count": 128,
     "metadata": {},
     "output_type": "execute_result"
    }
   ],
   "source": [
    "sum(l)"
   ]
  },
  {
   "cell_type": "code",
   "execution_count": 129,
   "id": "ad3ff0a5",
   "metadata": {},
   "outputs": [
    {
     "data": {
      "text/plain": [
       "42"
      ]
     },
     "execution_count": 129,
     "metadata": {},
     "output_type": "execute_result"
    }
   ],
   "source": [
    "reduce(lambda a,b:a+b,l)"
   ]
  },
  {
   "cell_type": "markdown",
   "id": "6735b22f",
   "metadata": {},
   "source": [
    "Explanation: reduce function always try to accumulate information or tries to perform an aggregate operation on top of any sequence we have passed. It takes 2 parameter at a time (a,b) (a,b) and then this is going to perform this operation "
   ]
  },
  {
   "cell_type": "code",
   "execution_count": 130,
   "id": "beb8e847",
   "metadata": {},
   "outputs": [
    {
     "data": {
      "text/plain": [
       "181440"
      ]
     },
     "execution_count": 130,
     "metadata": {},
     "output_type": "execute_result"
    }
   ],
   "source": [
    "reduce(lambda a,b:a*b,l)"
   ]
  },
  {
   "cell_type": "raw",
   "id": "423929ca",
   "metadata": {},
   "source": [
    "Why this doesn't work? Refer Notes for more detailed explanation\n",
    "reduce(lambda a,b,c:a+b+c,l) when ran on a string such as [3,4,5,6,7,8,9,2] at the last reduction a becomes = 42, b=2, and c=No element hence it doesn't work. In case of two, it will always work\n",
    "\n",
    "What about a single element?"
   ]
  },
  {
   "cell_type": "code",
   "execution_count": 131,
   "id": "5a77ab6c",
   "metadata": {},
   "outputs": [],
   "source": [
    "l1 = [3]"
   ]
  },
  {
   "cell_type": "code",
   "execution_count": 132,
   "id": "f2ad0287",
   "metadata": {},
   "outputs": [
    {
     "data": {
      "text/plain": [
       "3"
      ]
     },
     "execution_count": 132,
     "metadata": {},
     "output_type": "execute_result"
    }
   ],
   "source": [
    "reduce(lambda a,b:a+b,l1)"
   ]
  },
  {
   "cell_type": "markdown",
   "id": "dc81015a",
   "metadata": {},
   "source": [
    "Why it works? There is no b. By default, it considers b= 0 (sum) or b=1 (mul). It is an exception."
   ]
  },
  {
   "cell_type": "markdown",
   "id": "f30b278d",
   "metadata": {},
   "source": [
    "> filter"
   ]
  },
  {
   "cell_type": "code",
   "execution_count": 133,
   "id": "a8438452",
   "metadata": {},
   "outputs": [],
   "source": [
    "l = [1,2,3,4,45,5]   #filter out the data where we only have even numbers"
   ]
  },
  {
   "cell_type": "code",
   "execution_count": 134,
   "id": "b83c05ee",
   "metadata": {},
   "outputs": [
    {
     "data": {
      "text/plain": [
       "<filter at 0x1d35b7e02e0>"
      ]
     },
     "execution_count": 134,
     "metadata": {},
     "output_type": "execute_result"
    }
   ],
   "source": [
    "filter(lambda x: x%2 ,l)"
   ]
  },
  {
   "cell_type": "code",
   "execution_count": 135,
   "id": "c4a0bdd1",
   "metadata": {},
   "outputs": [
    {
     "data": {
      "text/plain": [
       "[2, 4]"
      ]
     },
     "execution_count": 135,
     "metadata": {},
     "output_type": "execute_result"
    }
   ],
   "source": [
    "list(filter(lambda x: x%2==0 ,l))   #filter always look for the True condition. Wherever True, it will return else not"
   ]
  },
  {
   "cell_type": "code",
   "execution_count": 136,
   "id": "b1f62b5a",
   "metadata": {},
   "outputs": [],
   "source": [
    "def chk_even(n):\n",
    "    if n%2 == 0:\n",
    "        return True"
   ]
  },
  {
   "cell_type": "code",
   "execution_count": 137,
   "id": "1155c191",
   "metadata": {},
   "outputs": [
    {
     "data": {
      "text/plain": [
       "[2, 4]"
      ]
     },
     "execution_count": 137,
     "metadata": {},
     "output_type": "execute_result"
    }
   ],
   "source": [
    "list(filter(chk_even,l))"
   ]
  },
  {
   "cell_type": "code",
   "execution_count": null,
   "id": "b3c5dad5",
   "metadata": {},
   "outputs": [],
   "source": []
  }
 ],
 "metadata": {
  "kernelspec": {
   "display_name": "Python 3 (ipykernel)",
   "language": "python",
   "name": "python3"
  },
  "language_info": {
   "codemirror_mode": {
    "name": "ipython",
    "version": 3
   },
   "file_extension": ".py",
   "mimetype": "text/x-python",
   "name": "python",
   "nbconvert_exporter": "python",
   "pygments_lexer": "ipython3",
   "version": "3.9.7"
  }
 },
 "nbformat": 4,
 "nbformat_minor": 5
}
